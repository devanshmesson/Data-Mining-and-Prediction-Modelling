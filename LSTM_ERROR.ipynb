{
  "nbformat": 4,
  "nbformat_minor": 0,
  "metadata": {
    "colab": {
      "name": "Untitled6.ipynb",
      "provenance": [],
      "authorship_tag": "ABX9TyOi92kPWBbmtSmNM9SbGO1N",
      "include_colab_link": true
    },
    "kernelspec": {
      "name": "python3",
      "display_name": "Python 3"
    }
  },
  "cells": [
    {
      "cell_type": "markdown",
      "metadata": {
        "id": "view-in-github",
        "colab_type": "text"
      },
      "source": [
        "<a href=\"https://colab.research.google.com/github/zeph0yr/Data-Mining-and-Prediction-Modelling/blob/master/LSTM_ERROR.ipynb\" target=\"_parent\"><img src=\"https://colab.research.google.com/assets/colab-badge.svg\" alt=\"Open In Colab\"/></a>"
      ]
    },
    {
      "cell_type": "code",
      "metadata": {
        "id": "6exSqd9a3Srw",
        "colab_type": "code",
        "colab": {}
      },
      "source": [
        "\n",
        "import numpy as np # linear algebra\n",
        "import pandas as pd # data processing, CSV file I/O (e.g. pd.read_csv)\n",
        "\n",
        "# Input data files are available in the \"../input/\" directory.\n",
        "# For example, running this (by clicking run or pressing Shift+Enter) will list all files under the input directory\n",
        "\n",
        "import os\n",
        "for dirname, _, filenames in os.walk('/kaggle/input'):\n",
        "    for filename in filenames:\n",
        "        print(os.path.join(dirname, filename))"
      ],
      "execution_count": 0,
      "outputs": []
    },
    {
      "cell_type": "code",
      "metadata": {
        "id": "JNuRTF1TOdat",
        "colab_type": "code",
        "colab": {
          "base_uri": "https://localhost:8080/",
          "height": 411
        },
        "outputId": "ffada0ee-f433-47c1-8d1d-1b4b8816c94a"
      },
      "source": [
        "import pandas as pd\n",
        "df = pd.read_csv(\"/kaggle/input/stock-price/AAPL.csv\")"
      ],
      "execution_count": 164,
      "outputs": [
        {
          "output_type": "error",
          "ename": "FileNotFoundError",
          "evalue": "ignored",
          "traceback": [
            "\u001b[0;31m---------------------------------------------------------------------------\u001b[0m",
            "\u001b[0;31mFileNotFoundError\u001b[0m                         Traceback (most recent call last)",
            "\u001b[0;32m<ipython-input-164-88a0208a7427>\u001b[0m in \u001b[0;36m<module>\u001b[0;34m()\u001b[0m\n\u001b[1;32m      1\u001b[0m \u001b[0;32mimport\u001b[0m \u001b[0mpandas\u001b[0m \u001b[0;32mas\u001b[0m \u001b[0mpd\u001b[0m\u001b[0;34m\u001b[0m\u001b[0;34m\u001b[0m\u001b[0m\n\u001b[0;32m----> 2\u001b[0;31m \u001b[0mdf\u001b[0m \u001b[0;34m=\u001b[0m \u001b[0mpd\u001b[0m\u001b[0;34m.\u001b[0m\u001b[0mread_csv\u001b[0m\u001b[0;34m(\u001b[0m\u001b[0;34m\"/kaggle/input/stock-price/AAPL.csv\"\u001b[0m\u001b[0;34m)\u001b[0m\u001b[0;34m\u001b[0m\u001b[0;34m\u001b[0m\u001b[0m\n\u001b[0m",
            "\u001b[0;32m/usr/local/lib/python3.6/dist-packages/pandas/io/parsers.py\u001b[0m in \u001b[0;36mparser_f\u001b[0;34m(filepath_or_buffer, sep, delimiter, header, names, index_col, usecols, squeeze, prefix, mangle_dupe_cols, dtype, engine, converters, true_values, false_values, skipinitialspace, skiprows, skipfooter, nrows, na_values, keep_default_na, na_filter, verbose, skip_blank_lines, parse_dates, infer_datetime_format, keep_date_col, date_parser, dayfirst, cache_dates, iterator, chunksize, compression, thousands, decimal, lineterminator, quotechar, quoting, doublequote, escapechar, comment, encoding, dialect, error_bad_lines, warn_bad_lines, delim_whitespace, low_memory, memory_map, float_precision)\u001b[0m\n\u001b[1;32m    683\u001b[0m         )\n\u001b[1;32m    684\u001b[0m \u001b[0;34m\u001b[0m\u001b[0m\n\u001b[0;32m--> 685\u001b[0;31m         \u001b[0;32mreturn\u001b[0m \u001b[0m_read\u001b[0m\u001b[0;34m(\u001b[0m\u001b[0mfilepath_or_buffer\u001b[0m\u001b[0;34m,\u001b[0m \u001b[0mkwds\u001b[0m\u001b[0;34m)\u001b[0m\u001b[0;34m\u001b[0m\u001b[0;34m\u001b[0m\u001b[0m\n\u001b[0m\u001b[1;32m    686\u001b[0m \u001b[0;34m\u001b[0m\u001b[0m\n\u001b[1;32m    687\u001b[0m     \u001b[0mparser_f\u001b[0m\u001b[0;34m.\u001b[0m\u001b[0m__name__\u001b[0m \u001b[0;34m=\u001b[0m \u001b[0mname\u001b[0m\u001b[0;34m\u001b[0m\u001b[0;34m\u001b[0m\u001b[0m\n",
            "\u001b[0;32m/usr/local/lib/python3.6/dist-packages/pandas/io/parsers.py\u001b[0m in \u001b[0;36m_read\u001b[0;34m(filepath_or_buffer, kwds)\u001b[0m\n\u001b[1;32m    455\u001b[0m \u001b[0;34m\u001b[0m\u001b[0m\n\u001b[1;32m    456\u001b[0m     \u001b[0;31m# Create the parser.\u001b[0m\u001b[0;34m\u001b[0m\u001b[0;34m\u001b[0m\u001b[0;34m\u001b[0m\u001b[0m\n\u001b[0;32m--> 457\u001b[0;31m     \u001b[0mparser\u001b[0m \u001b[0;34m=\u001b[0m \u001b[0mTextFileReader\u001b[0m\u001b[0;34m(\u001b[0m\u001b[0mfp_or_buf\u001b[0m\u001b[0;34m,\u001b[0m \u001b[0;34m**\u001b[0m\u001b[0mkwds\u001b[0m\u001b[0;34m)\u001b[0m\u001b[0;34m\u001b[0m\u001b[0;34m\u001b[0m\u001b[0m\n\u001b[0m\u001b[1;32m    458\u001b[0m \u001b[0;34m\u001b[0m\u001b[0m\n\u001b[1;32m    459\u001b[0m     \u001b[0;32mif\u001b[0m \u001b[0mchunksize\u001b[0m \u001b[0;32mor\u001b[0m \u001b[0miterator\u001b[0m\u001b[0;34m:\u001b[0m\u001b[0;34m\u001b[0m\u001b[0;34m\u001b[0m\u001b[0m\n",
            "\u001b[0;32m/usr/local/lib/python3.6/dist-packages/pandas/io/parsers.py\u001b[0m in \u001b[0;36m__init__\u001b[0;34m(self, f, engine, **kwds)\u001b[0m\n\u001b[1;32m    893\u001b[0m             \u001b[0mself\u001b[0m\u001b[0;34m.\u001b[0m\u001b[0moptions\u001b[0m\u001b[0;34m[\u001b[0m\u001b[0;34m\"has_index_names\"\u001b[0m\u001b[0;34m]\u001b[0m \u001b[0;34m=\u001b[0m \u001b[0mkwds\u001b[0m\u001b[0;34m[\u001b[0m\u001b[0;34m\"has_index_names\"\u001b[0m\u001b[0;34m]\u001b[0m\u001b[0;34m\u001b[0m\u001b[0;34m\u001b[0m\u001b[0m\n\u001b[1;32m    894\u001b[0m \u001b[0;34m\u001b[0m\u001b[0m\n\u001b[0;32m--> 895\u001b[0;31m         \u001b[0mself\u001b[0m\u001b[0;34m.\u001b[0m\u001b[0m_make_engine\u001b[0m\u001b[0;34m(\u001b[0m\u001b[0mself\u001b[0m\u001b[0;34m.\u001b[0m\u001b[0mengine\u001b[0m\u001b[0;34m)\u001b[0m\u001b[0;34m\u001b[0m\u001b[0;34m\u001b[0m\u001b[0m\n\u001b[0m\u001b[1;32m    896\u001b[0m \u001b[0;34m\u001b[0m\u001b[0m\n\u001b[1;32m    897\u001b[0m     \u001b[0;32mdef\u001b[0m \u001b[0mclose\u001b[0m\u001b[0;34m(\u001b[0m\u001b[0mself\u001b[0m\u001b[0;34m)\u001b[0m\u001b[0;34m:\u001b[0m\u001b[0;34m\u001b[0m\u001b[0;34m\u001b[0m\u001b[0m\n",
            "\u001b[0;32m/usr/local/lib/python3.6/dist-packages/pandas/io/parsers.py\u001b[0m in \u001b[0;36m_make_engine\u001b[0;34m(self, engine)\u001b[0m\n\u001b[1;32m   1133\u001b[0m     \u001b[0;32mdef\u001b[0m \u001b[0m_make_engine\u001b[0m\u001b[0;34m(\u001b[0m\u001b[0mself\u001b[0m\u001b[0;34m,\u001b[0m \u001b[0mengine\u001b[0m\u001b[0;34m=\u001b[0m\u001b[0;34m\"c\"\u001b[0m\u001b[0;34m)\u001b[0m\u001b[0;34m:\u001b[0m\u001b[0;34m\u001b[0m\u001b[0;34m\u001b[0m\u001b[0m\n\u001b[1;32m   1134\u001b[0m         \u001b[0;32mif\u001b[0m \u001b[0mengine\u001b[0m \u001b[0;34m==\u001b[0m \u001b[0;34m\"c\"\u001b[0m\u001b[0;34m:\u001b[0m\u001b[0;34m\u001b[0m\u001b[0;34m\u001b[0m\u001b[0m\n\u001b[0;32m-> 1135\u001b[0;31m             \u001b[0mself\u001b[0m\u001b[0;34m.\u001b[0m\u001b[0m_engine\u001b[0m \u001b[0;34m=\u001b[0m \u001b[0mCParserWrapper\u001b[0m\u001b[0;34m(\u001b[0m\u001b[0mself\u001b[0m\u001b[0;34m.\u001b[0m\u001b[0mf\u001b[0m\u001b[0;34m,\u001b[0m \u001b[0;34m**\u001b[0m\u001b[0mself\u001b[0m\u001b[0;34m.\u001b[0m\u001b[0moptions\u001b[0m\u001b[0;34m)\u001b[0m\u001b[0;34m\u001b[0m\u001b[0;34m\u001b[0m\u001b[0m\n\u001b[0m\u001b[1;32m   1136\u001b[0m         \u001b[0;32melse\u001b[0m\u001b[0;34m:\u001b[0m\u001b[0;34m\u001b[0m\u001b[0;34m\u001b[0m\u001b[0m\n\u001b[1;32m   1137\u001b[0m             \u001b[0;32mif\u001b[0m \u001b[0mengine\u001b[0m \u001b[0;34m==\u001b[0m \u001b[0;34m\"python\"\u001b[0m\u001b[0;34m:\u001b[0m\u001b[0;34m\u001b[0m\u001b[0;34m\u001b[0m\u001b[0m\n",
            "\u001b[0;32m/usr/local/lib/python3.6/dist-packages/pandas/io/parsers.py\u001b[0m in \u001b[0;36m__init__\u001b[0;34m(self, src, **kwds)\u001b[0m\n\u001b[1;32m   1915\u001b[0m         \u001b[0mkwds\u001b[0m\u001b[0;34m[\u001b[0m\u001b[0;34m\"usecols\"\u001b[0m\u001b[0;34m]\u001b[0m \u001b[0;34m=\u001b[0m \u001b[0mself\u001b[0m\u001b[0;34m.\u001b[0m\u001b[0musecols\u001b[0m\u001b[0;34m\u001b[0m\u001b[0;34m\u001b[0m\u001b[0m\n\u001b[1;32m   1916\u001b[0m \u001b[0;34m\u001b[0m\u001b[0m\n\u001b[0;32m-> 1917\u001b[0;31m         \u001b[0mself\u001b[0m\u001b[0;34m.\u001b[0m\u001b[0m_reader\u001b[0m \u001b[0;34m=\u001b[0m \u001b[0mparsers\u001b[0m\u001b[0;34m.\u001b[0m\u001b[0mTextReader\u001b[0m\u001b[0;34m(\u001b[0m\u001b[0msrc\u001b[0m\u001b[0;34m,\u001b[0m \u001b[0;34m**\u001b[0m\u001b[0mkwds\u001b[0m\u001b[0;34m)\u001b[0m\u001b[0;34m\u001b[0m\u001b[0;34m\u001b[0m\u001b[0m\n\u001b[0m\u001b[1;32m   1918\u001b[0m         \u001b[0mself\u001b[0m\u001b[0;34m.\u001b[0m\u001b[0munnamed_cols\u001b[0m \u001b[0;34m=\u001b[0m \u001b[0mself\u001b[0m\u001b[0;34m.\u001b[0m\u001b[0m_reader\u001b[0m\u001b[0;34m.\u001b[0m\u001b[0munnamed_cols\u001b[0m\u001b[0;34m\u001b[0m\u001b[0;34m\u001b[0m\u001b[0m\n\u001b[1;32m   1919\u001b[0m \u001b[0;34m\u001b[0m\u001b[0m\n",
            "\u001b[0;32mpandas/_libs/parsers.pyx\u001b[0m in \u001b[0;36mpandas._libs.parsers.TextReader.__cinit__\u001b[0;34m()\u001b[0m\n",
            "\u001b[0;32mpandas/_libs/parsers.pyx\u001b[0m in \u001b[0;36mpandas._libs.parsers.TextReader._setup_parser_source\u001b[0;34m()\u001b[0m\n",
            "\u001b[0;31mFileNotFoundError\u001b[0m: [Errno 2] File b'/kaggle/input/stock-price/AAPL.csv' does not exist: b'/kaggle/input/stock-price/AAPL.csv'"
          ]
        }
      ]
    },
    {
      "cell_type": "code",
      "metadata": {
        "id": "GmzRlHVE7Daf",
        "colab_type": "code",
        "colab": {
          "base_uri": "https://localhost:8080/",
          "height": 204
        },
        "outputId": "075daefa-7ee3-404b-b8e4-b8cbc1a967fe"
      },
      "source": [
        "df.head()"
      ],
      "execution_count": 6,
      "outputs": [
        {
          "output_type": "execute_result",
          "data": {
            "text/html": [
              "<div>\n",
              "<style scoped>\n",
              "    .dataframe tbody tr th:only-of-type {\n",
              "        vertical-align: middle;\n",
              "    }\n",
              "\n",
              "    .dataframe tbody tr th {\n",
              "        vertical-align: top;\n",
              "    }\n",
              "\n",
              "    .dataframe thead th {\n",
              "        text-align: right;\n",
              "    }\n",
              "</style>\n",
              "<table border=\"1\" class=\"dataframe\">\n",
              "  <thead>\n",
              "    <tr style=\"text-align: right;\">\n",
              "      <th></th>\n",
              "      <th>Date</th>\n",
              "      <th>Open</th>\n",
              "      <th>High</th>\n",
              "      <th>Low</th>\n",
              "      <th>Close</th>\n",
              "      <th>Adj Close</th>\n",
              "      <th>Volume</th>\n",
              "    </tr>\n",
              "  </thead>\n",
              "  <tbody>\n",
              "    <tr>\n",
              "      <th>0</th>\n",
              "      <td>2019-01-30</td>\n",
              "      <td>163.250000</td>\n",
              "      <td>166.149994</td>\n",
              "      <td>160.229996</td>\n",
              "      <td>165.250000</td>\n",
              "      <td>162.803864</td>\n",
              "      <td>61109800</td>\n",
              "    </tr>\n",
              "    <tr>\n",
              "      <th>1</th>\n",
              "      <td>2019-01-31</td>\n",
              "      <td>166.110001</td>\n",
              "      <td>169.000000</td>\n",
              "      <td>164.559998</td>\n",
              "      <td>166.440002</td>\n",
              "      <td>163.976242</td>\n",
              "      <td>40739600</td>\n",
              "    </tr>\n",
              "    <tr>\n",
              "      <th>2</th>\n",
              "      <td>2019-02-01</td>\n",
              "      <td>166.960007</td>\n",
              "      <td>168.979996</td>\n",
              "      <td>165.929993</td>\n",
              "      <td>166.520004</td>\n",
              "      <td>164.055069</td>\n",
              "      <td>32668100</td>\n",
              "    </tr>\n",
              "    <tr>\n",
              "      <th>3</th>\n",
              "      <td>2019-02-04</td>\n",
              "      <td>167.410004</td>\n",
              "      <td>171.660004</td>\n",
              "      <td>167.279999</td>\n",
              "      <td>171.250000</td>\n",
              "      <td>168.715042</td>\n",
              "      <td>31495500</td>\n",
              "    </tr>\n",
              "    <tr>\n",
              "      <th>4</th>\n",
              "      <td>2019-02-05</td>\n",
              "      <td>172.860001</td>\n",
              "      <td>175.080002</td>\n",
              "      <td>172.350006</td>\n",
              "      <td>174.179993</td>\n",
              "      <td>171.601685</td>\n",
              "      <td>36101600</td>\n",
              "    </tr>\n",
              "  </tbody>\n",
              "</table>\n",
              "</div>"
            ],
            "text/plain": [
              "         Date        Open        High  ...       Close   Adj Close    Volume\n",
              "0  2019-01-30  163.250000  166.149994  ...  165.250000  162.803864  61109800\n",
              "1  2019-01-31  166.110001  169.000000  ...  166.440002  163.976242  40739600\n",
              "2  2019-02-01  166.960007  168.979996  ...  166.520004  164.055069  32668100\n",
              "3  2019-02-04  167.410004  171.660004  ...  171.250000  168.715042  31495500\n",
              "4  2019-02-05  172.860001  175.080002  ...  174.179993  171.601685  36101600\n",
              "\n",
              "[5 rows x 7 columns]"
            ]
          },
          "metadata": {
            "tags": []
          },
          "execution_count": 6
        }
      ]
    },
    {
      "cell_type": "code",
      "metadata": {
        "id": "pMW3dYrB7Qpb",
        "colab_type": "code",
        "colab": {
          "base_uri": "https://localhost:8080/",
          "height": 204
        },
        "outputId": "1d2f186c-6fae-4ccd-9b04-8c33bfb2daed"
      },
      "source": [
        "df.tail()\n"
      ],
      "execution_count": 7,
      "outputs": [
        {
          "output_type": "execute_result",
          "data": {
            "text/html": [
              "<div>\n",
              "<style scoped>\n",
              "    .dataframe tbody tr th:only-of-type {\n",
              "        vertical-align: middle;\n",
              "    }\n",
              "\n",
              "    .dataframe tbody tr th {\n",
              "        vertical-align: top;\n",
              "    }\n",
              "\n",
              "    .dataframe thead th {\n",
              "        text-align: right;\n",
              "    }\n",
              "</style>\n",
              "<table border=\"1\" class=\"dataframe\">\n",
              "  <thead>\n",
              "    <tr style=\"text-align: right;\">\n",
              "      <th></th>\n",
              "      <th>Date</th>\n",
              "      <th>Open</th>\n",
              "      <th>High</th>\n",
              "      <th>Low</th>\n",
              "      <th>Close</th>\n",
              "      <th>Adj Close</th>\n",
              "      <th>Volume</th>\n",
              "    </tr>\n",
              "  </thead>\n",
              "  <tbody>\n",
              "    <tr>\n",
              "      <th>248</th>\n",
              "      <td>2020-01-24</td>\n",
              "      <td>320.250000</td>\n",
              "      <td>323.329987</td>\n",
              "      <td>317.519989</td>\n",
              "      <td>318.309998</td>\n",
              "      <td>318.309998</td>\n",
              "      <td>36634400</td>\n",
              "    </tr>\n",
              "    <tr>\n",
              "      <th>249</th>\n",
              "      <td>2020-01-27</td>\n",
              "      <td>310.059998</td>\n",
              "      <td>311.769989</td>\n",
              "      <td>304.880005</td>\n",
              "      <td>308.950012</td>\n",
              "      <td>308.950012</td>\n",
              "      <td>40485000</td>\n",
              "    </tr>\n",
              "    <tr>\n",
              "      <th>250</th>\n",
              "      <td>2020-01-28</td>\n",
              "      <td>312.600006</td>\n",
              "      <td>318.399994</td>\n",
              "      <td>312.190002</td>\n",
              "      <td>317.690002</td>\n",
              "      <td>317.690002</td>\n",
              "      <td>40558500</td>\n",
              "    </tr>\n",
              "    <tr>\n",
              "      <th>251</th>\n",
              "      <td>2020-01-29</td>\n",
              "      <td>324.450012</td>\n",
              "      <td>327.850006</td>\n",
              "      <td>321.380005</td>\n",
              "      <td>324.339996</td>\n",
              "      <td>324.339996</td>\n",
              "      <td>54057300</td>\n",
              "    </tr>\n",
              "    <tr>\n",
              "      <th>252</th>\n",
              "      <td>2020-01-30</td>\n",
              "      <td>320.542999</td>\n",
              "      <td>324.089996</td>\n",
              "      <td>318.750000</td>\n",
              "      <td>319.839996</td>\n",
              "      <td>319.839996</td>\n",
              "      <td>21260504</td>\n",
              "    </tr>\n",
              "  </tbody>\n",
              "</table>\n",
              "</div>"
            ],
            "text/plain": [
              "           Date        Open        High  ...       Close   Adj Close    Volume\n",
              "248  2020-01-24  320.250000  323.329987  ...  318.309998  318.309998  36634400\n",
              "249  2020-01-27  310.059998  311.769989  ...  308.950012  308.950012  40485000\n",
              "250  2020-01-28  312.600006  318.399994  ...  317.690002  317.690002  40558500\n",
              "251  2020-01-29  324.450012  327.850006  ...  324.339996  324.339996  54057300\n",
              "252  2020-01-30  320.542999  324.089996  ...  319.839996  319.839996  21260504\n",
              "\n",
              "[5 rows x 7 columns]"
            ]
          },
          "metadata": {
            "tags": []
          },
          "execution_count": 7
        }
      ]
    },
    {
      "cell_type": "code",
      "metadata": {
        "id": "b9wKaPDT7Unj",
        "colab_type": "code",
        "colab": {
          "base_uri": "https://localhost:8080/",
          "height": 296
        },
        "outputId": "dd6c69c8-3566-4c31-9a3d-c4e3926affd2"
      },
      "source": [
        "df.plot(x='Date', y='Open')"
      ],
      "execution_count": 8,
      "outputs": [
        {
          "output_type": "execute_result",
          "data": {
            "text/plain": [
              "<matplotlib.axes._subplots.AxesSubplot at 0x7f52af35d048>"
            ]
          },
          "metadata": {
            "tags": []
          },
          "execution_count": 8
        },
        {
          "output_type": "display_data",
          "data": {
            "image/png": "[encoded data removed]",
            "text/plain": [
              "<Figure size 432x288 with 1 Axes>"
            ]
          },
          "metadata": {
            "tags": []
          }
        }
      ]
    },
    {
      "cell_type": "code",
      "metadata": {
        "id": "Omj44cfa7ZiN",
        "colab_type": "code",
        "colab": {
          "base_uri": "https://localhost:8080/",
          "height": 296
        },
        "outputId": "c518cab3-9ca9-46f5-8b25-dede03884711"
      },
      "source": [
        "df.plot(x='Date', y='Close')\n"
      ],
      "execution_count": 9,
      "outputs": [
        {
          "output_type": "execute_result",
          "data": {
            "text/plain": [
              "<matplotlib.axes._subplots.AxesSubplot at 0x7f52aeb359e8>"
            ]
          },
          "metadata": {
            "tags": []
          },
          "execution_count": 9
        },
        {
          "output_type": "display_data",
          "data": {
            "image/png": "[encoded data removed]",
            "text/plain": [
              "<Figure size 432x288 with 1 Axes>"
            ]
          },
          "metadata": {
            "tags": []
          }
        }
      ]
    },
    {
      "cell_type": "code",
      "metadata": {
        "id": "9gzAhaDQ7eVc",
        "colab_type": "code",
        "colab": {
          "base_uri": "https://localhost:8080/",
          "height": 1000
        },
        "outputId": "a92010ed-584c-41d4-b431-3a5faa306e94"
      },
      "source": [
        "training_data = df.iloc[0:247,1:2].values\n",
        "training_data"
      ],
      "execution_count": 136,
      "outputs": [
        {
          "output_type": "execute_result",
          "data": {
            "text/plain": [
              "array([[163.25    ],\n",
              "       [166.110001],\n",
              "       [166.960007],\n",
              "       [167.410004],\n",
              "       [172.860001],\n",
              "       [174.649994],\n",
              "       [172.399994],\n",
              "       [168.990005],\n",
              "       [171.050003],\n",
              "       [170.100006],\n",
              "       [171.389999],\n",
              "       [169.710007],\n",
              "       [171.25    ],\n",
              "       [169.710007],\n",
              "       [171.190002],\n",
              "       [171.800003],\n",
              "       [171.580002],\n",
              "       [174.160004],\n",
              "       [173.710007],\n",
              "       [173.210007],\n",
              "       [174.320007],\n",
              "       [174.279999],\n",
              "       [175.690002],\n",
              "       [175.940002],\n",
              "       [174.669998],\n",
              "       [173.869995],\n",
              "       [170.320007],\n",
              "       [175.490005],\n",
              "       [180.      ],\n",
              "       [182.25    ],\n",
              "       [183.899994],\n",
              "       [184.850006],\n",
              "       [185.800003],\n",
              "       [188.350006],\n",
              "       [186.229996],\n",
              "       [190.020004],\n",
              "       [195.339996],\n",
              "       [191.509995],\n",
              "       [191.660004],\n",
              "       [188.75    ],\n",
              "       [188.949997],\n",
              "       [189.830002],\n",
              "       [191.639999],\n",
              "       [191.089996],\n",
              "       [193.25    ],\n",
              "       [194.789993],\n",
              "       [196.449997],\n",
              "       [196.419998],\n",
              "       [200.320007],\n",
              "       [198.679993],\n",
              "       [200.850006],\n",
              "       [199.199997],\n",
              "       [198.580002],\n",
              "       [199.460007],\n",
              "       [199.539993],\n",
              "       [203.119995],\n",
              "       [202.830002],\n",
              "       [204.429993],\n",
              "       [207.360001],\n",
              "       [206.830002],\n",
              "       [204.899994],\n",
              "       [204.399994],\n",
              "       [203.059998],\n",
              "       [209.880005],\n",
              "       [209.839996],\n",
              "       [210.889999],\n",
              "       [204.289993],\n",
              "       [205.880005],\n",
              "       [201.899994],\n",
              "       [200.399994],\n",
              "       [197.419998],\n",
              "       [187.710007],\n",
              "       [186.410004],\n",
              "       [186.270004],\n",
              "       [189.910004],\n",
              "       [186.929993],\n",
              "       [183.520004],\n",
              "       [185.220001],\n",
              "       [184.660004],\n",
              "       [179.800003],\n",
              "       [180.199997],\n",
              "       [178.919998],\n",
              "       [176.419998],\n",
              "       [177.949997],\n",
              "       [176.229996],\n",
              "       [175.600006],\n",
              "       [175.440002],\n",
              "       [184.279999],\n",
              "       [183.080002],\n",
              "       [186.509995],\n",
              "       [191.809998],\n",
              "       [194.860001],\n",
              "       [193.949997],\n",
              "       [194.699997],\n",
              "       [191.550003],\n",
              "       [192.899994],\n",
              "       [196.050003],\n",
              "       [199.679993],\n",
              "       [200.369995],\n",
              "       [198.800003],\n",
              "       [198.539993],\n",
              "       [198.429993],\n",
              "       [197.770004],\n",
              "       [200.289993],\n",
              "       [198.679993],\n",
              "       [203.169998],\n",
              "       [201.410004],\n",
              "       [203.279999],\n",
              "       [203.350006],\n",
              "       [200.809998],\n",
              "       [199.199997],\n",
              "       [201.850006],\n",
              "       [203.309998],\n",
              "       [202.449997],\n",
              "       [204.089996],\n",
              "       [204.589996],\n",
              "       [204.050003],\n",
              "       [204.      ],\n",
              "       [205.789993],\n",
              "       [203.649994],\n",
              "       [208.460007],\n",
              "       [207.669998],\n",
              "       [208.889999],\n",
              "       [207.479996],\n",
              "       [208.460007],\n",
              "       [208.759995],\n",
              "       [216.419998],\n",
              "       [213.899994],\n",
              "       [205.529999],\n",
              "       [197.990005],\n",
              "       [196.309998],\n",
              "       [195.410004],\n",
              "       [200.199997],\n",
              "       [201.300003],\n",
              "       [199.619995],\n",
              "       [201.020004],\n",
              "       [203.160004],\n",
              "       [203.460007],\n",
              "       [204.279999],\n",
              "       [210.619995],\n",
              "       [210.880005],\n",
              "       [212.990005],\n",
              "       [213.190002],\n",
              "       [209.429993],\n",
              "       [205.860001],\n",
              "       [207.860001],\n",
              "       [204.100006],\n",
              "       [208.5     ],\n",
              "       [210.160004],\n",
              "       [206.429993],\n",
              "       [208.389999],\n",
              "       [212.      ],\n",
              "       [214.050003],\n",
              "       [214.839996],\n",
              "       [213.860001],\n",
              "       [218.070007],\n",
              "       [224.800003],\n",
              "       [220.      ],\n",
              "       [217.729996],\n",
              "       [219.960007],\n",
              "       [221.059998],\n",
              "       [222.009995],\n",
              "       [221.380005],\n",
              "       [218.949997],\n",
              "       [221.029999],\n",
              "       [218.550003],\n",
              "       [220.      ],\n",
              "       [220.539993],\n",
              "       [220.899994],\n",
              "       [225.070007],\n",
              "       [223.059998],\n",
              "       [218.429993],\n",
              "       [225.639999],\n",
              "       [226.270004],\n",
              "       [225.820007],\n",
              "       [227.029999],\n",
              "       [227.929993],\n",
              "       [232.949997],\n",
              "       [234.899994],\n",
              "       [236.389999],\n",
              "       [233.369995],\n",
              "       [235.089996],\n",
              "       [234.589996],\n",
              "       [237.520004],\n",
              "       [241.160004],\n",
              "       [242.100006],\n",
              "       [244.509995],\n",
              "       [243.160004],\n",
              "       [247.419998],\n",
              "       [248.970001],\n",
              "       [244.759995],\n",
              "       [247.240005],\n",
              "       [249.539993],\n",
              "       [257.329987],\n",
              "       [257.049988],\n",
              "       [256.769989],\n",
              "       [258.73999 ],\n",
              "       [258.690002],\n",
              "       [258.299988],\n",
              "       [261.549988],\n",
              "       [261.130005],\n",
              "       [263.75    ],\n",
              "       [263.679993],\n",
              "       [265.799988],\n",
              "       [267.899994],\n",
              "       [265.540009],\n",
              "       [263.690002],\n",
              "       [262.589996],\n",
              "       [262.709991],\n",
              "       [266.940002],\n",
              "       [265.579987],\n",
              "       [266.600006],\n",
              "       [267.269989],\n",
              "       [258.309998],\n",
              "       [261.070007],\n",
              "       [263.790009],\n",
              "       [267.480011],\n",
              "       [270.      ],\n",
              "       [268.600006],\n",
              "       [268.809998],\n",
              "       [267.779999],\n",
              "       [271.459991],\n",
              "       [277.      ],\n",
              "       [279.570007],\n",
              "       [279.799988],\n",
              "       [279.5     ],\n",
              "       [282.230011],\n",
              "       [280.529999],\n",
              "       [284.690002],\n",
              "       [284.820007],\n",
              "       [291.119995],\n",
              "       [289.459991],\n",
              "       [289.929993],\n",
              "       [296.23999 ],\n",
              "       [297.149994],\n",
              "       [293.790009],\n",
              "       [299.839996],\n",
              "       [297.160004],\n",
              "       [307.23999 ],\n",
              "       [310.600006],\n",
              "       [311.640015],\n",
              "       [316.700012],\n",
              "       [311.850006],\n",
              "       [313.589996],\n",
              "       [316.269989],\n",
              "       [317.190002],\n",
              "       [318.579987]])"
            ]
          },
          "metadata": {
            "tags": []
          },
          "execution_count": 136
        }
      ]
    },
    {
      "cell_type": "code",
      "metadata": {
        "id": "F4mV90Y_7qF_",
        "colab_type": "code",
        "colab": {}
      },
      "source": [
        "#data normalization......\n",
        "from sklearn.preprocessing import MinMaxScaler\n",
        "scaler = MinMaxScaler(feature_range = (0, 1))\n",
        "training_data = scaler.fit_transform(training_data)"
      ],
      "execution_count": 0,
      "outputs": []
    },
    {
      "cell_type": "code",
      "metadata": {
        "id": "jbh07lSb7vSC",
        "colab_type": "code",
        "colab": {}
      },
      "source": [
        "#Convert Training Data to Right Shape\n",
        "features_set = []\n",
        "labels = []\n",
        "for i in range(160,247):\n",
        "    features_set.append(training_data[i-160:i,0])\n",
        "    labels.append(training_data[i,0])\n",
        "    \n",
        "#convert feature_set and labels in numpy array .....\n",
        "features_set , labels = np.array(features_set) , np.array(labels)\n",
        "\n",
        "#convert the feature_set into a 3 dimentional format.....\n",
        "features_set = np.reshape(features_set, (features_set.shape[0] , features_set.shape[1] , 1))"
      ],
      "execution_count": 0,
      "outputs": []
    },
    {
      "cell_type": "code",
      "metadata": {
        "id": "WFEt_RsM_E6_",
        "colab_type": "code",
        "colab": {
          "base_uri": "https://localhost:8080/",
          "height": 51
        },
        "outputId": "03c51c54-db99-4bd2-f9d0-a47226878ef5"
      },
      "source": [
        "#features_set shape......\n",
        "print(features_set.shape)\n",
        "print(labels.shape)"
      ],
      "execution_count": 152,
      "outputs": [
        {
          "output_type": "stream",
          "text": [
            "(87, 160, 1)\n",
            "(87,)\n"
          ],
          "name": "stdout"
        }
      ]
    },
    {
      "cell_type": "code",
      "metadata": {
        "id": "klB6LU1L_NZ_",
        "colab_type": "code",
        "colab": {}
      },
      "source": [
        "#import libraries.......\n",
        "from keras.models import Sequential\n",
        "from keras.layers import Dense, LSTM, Dropout"
      ],
      "execution_count": 0,
      "outputs": []
    },
    {
      "cell_type": "code",
      "metadata": {
        "id": "GFkvU_s2_ZBb",
        "colab_type": "code",
        "colab": {}
      },
      "source": [
        "#build a LSTM model......\n",
        "model = Sequential()\n",
        "\n",
        "model.add(LSTM(units= 50, return_sequences= True , input_shape = (features_set.shape[1], 1) ))\n",
        "model.add(Dropout(0.2))\n",
        "model.add(LSTM(units = 50 , return_sequences = True))\n",
        "model.add(Dropout(0.2))\n",
        "model.add(LSTM(units = 50, return_sequences = True))\n",
        "model.add(Dropout(0.2))\n",
        "model.add(LSTM(units = 50, return_sequences = False))\n",
        "model.add(Dropout(0.2))\n",
        "model.add(Dense(units= 1))"
      ],
      "execution_count": 0,
      "outputs": []
    },
    {
      "cell_type": "code",
      "metadata": {
        "id": "NAbxmPv6_fB4",
        "colab_type": "code",
        "colab": {
          "base_uri": "https://localhost:8080/",
          "height": 459
        },
        "outputId": "e42683ed-b50d-4e7f-b5b2-681c24a49c55"
      },
      "source": [
        "\n",
        "model.summary()"
      ],
      "execution_count": 155,
      "outputs": [
        {
          "output_type": "stream",
          "text": [
            "Model: \"sequential_3\"\n",
            "_________________________________________________________________\n",
            "Layer (type)                 Output Shape              Param #   \n",
            "=================================================================\n",
            "lstm_9 (LSTM)                (None, 160, 50)           10400     \n",
            "_________________________________________________________________\n",
            "dropout_9 (Dropout)          (None, 160, 50)           0         \n",
            "_________________________________________________________________\n",
            "lstm_10 (LSTM)               (None, 160, 50)           20200     \n",
            "_________________________________________________________________\n",
            "dropout_10 (Dropout)         (None, 160, 50)           0         \n",
            "_________________________________________________________________\n",
            "lstm_11 (LSTM)               (None, 160, 50)           20200     \n",
            "_________________________________________________________________\n",
            "dropout_11 (Dropout)         (None, 160, 50)           0         \n",
            "_________________________________________________________________\n",
            "lstm_12 (LSTM)               (None, 50)                20200     \n",
            "_________________________________________________________________\n",
            "dropout_12 (Dropout)         (None, 50)                0         \n",
            "_________________________________________________________________\n",
            "dense_3 (Dense)              (None, 1)                 51        \n",
            "=================================================================\n",
            "Total params: 71,051\n",
            "Trainable params: 71,051\n",
            "Non-trainable params: 0\n",
            "_________________________________________________________________\n"
          ],
          "name": "stdout"
        }
      ]
    },
    {
      "cell_type": "code",
      "metadata": {
        "id": "Z_rI1gKv_jLA",
        "colab_type": "code",
        "colab": {}
      },
      "source": [
        "#compiling the model.....\n",
        "model.compile(optimizer = 'adam' , loss = 'mean_squared_error', metrics=['accuracy'])"
      ],
      "execution_count": 0,
      "outputs": []
    },
    {
      "cell_type": "code",
      "metadata": {
        "id": "9j8GbFfy_qa-",
        "colab_type": "code",
        "colab": {
          "base_uri": "https://localhost:8080/",
          "height": 51
        },
        "outputId": "ead9fffe-62dc-4b72-c042-1fa6c1a7efd3"
      },
      "source": [
        "print(features_set.shape)\n",
        "print(labels.shape)"
      ],
      "execution_count": 157,
      "outputs": [
        {
          "output_type": "stream",
          "text": [
            "(87, 160, 1)\n",
            "(87,)\n"
          ],
          "name": "stdout"
        }
      ]
    },
    {
      "cell_type": "code",
      "metadata": {
        "id": "7EFiAn2C_rnw",
        "colab_type": "code",
        "colab": {
          "base_uri": "https://localhost:8080/",
          "height": 1000
        },
        "outputId": "d28c410a-f251-4d52-cb65-a7693e394c9f"
      },
      "source": [
        "fitted_model =  model.fit(features_set , labels , epochs = 100 , batch_size = 32)\n"
      ],
      "execution_count": 145,
      "outputs": [
        {
          "output_type": "stream",
          "text": [
            "Epoch 1/100\n",
            "87/87 [==============================] - 5s 53ms/step - loss: 0.3591 - acc: 0.0000e+00\n",
            "Epoch 2/100\n",
            "87/87 [==============================] - 1s 17ms/step - loss: 0.1686 - acc: 0.0000e+00\n",
            "Epoch 3/100\n",
            "87/87 [==============================] - 2s 18ms/step - loss: 0.0404 - acc: 0.0115\n",
            "Epoch 4/100\n",
            "87/87 [==============================] - 1s 17ms/step - loss: 0.0333 - acc: 0.0115\n",
            "Epoch 5/100\n",
            "87/87 [==============================] - 1s 17ms/step - loss: 0.0193 - acc: 0.0115\n",
            "Epoch 6/100\n",
            "87/87 [==============================] - 1s 17ms/step - loss: 0.0308 - acc: 0.0115\n",
            "Epoch 7/100\n",
            "87/87 [==============================] - 1s 17ms/step - loss: 0.0172 - acc: 0.0115\n",
            "Epoch 8/100\n",
            "87/87 [==============================] - 1s 17ms/step - loss: 0.0123 - acc: 0.0115\n",
            "Epoch 9/100\n",
            "87/87 [==============================] - 1s 17ms/step - loss: 0.0152 - acc: 0.0115\n",
            "Epoch 10/100\n",
            "87/87 [==============================] - 1s 17ms/step - loss: 0.0156 - acc: 0.0115\n",
            "Epoch 11/100\n",
            "87/87 [==============================] - 2s 17ms/step - loss: 0.0144 - acc: 0.0115\n",
            "Epoch 12/100\n",
            "87/87 [==============================] - 1s 17ms/step - loss: 0.0130 - acc: 0.0115\n",
            "Epoch 13/100\n",
            "87/87 [==============================] - 1s 17ms/step - loss: 0.0090 - acc: 0.0115\n",
            "Epoch 14/100\n",
            "87/87 [==============================] - 1s 17ms/step - loss: 0.0092 - acc: 0.0115\n",
            "Epoch 15/100\n",
            "87/87 [==============================] - 1s 17ms/step - loss: 0.0091 - acc: 0.0115\n",
            "Epoch 16/100\n",
            "87/87 [==============================] - 1s 17ms/step - loss: 0.0090 - acc: 0.0115\n",
            "Epoch 17/100\n",
            "87/87 [==============================] - 2s 17ms/step - loss: 0.0080 - acc: 0.0115\n",
            "Epoch 18/100\n",
            "87/87 [==============================] - 1s 17ms/step - loss: 0.0105 - acc: 0.0115\n",
            "Epoch 19/100\n",
            "87/87 [==============================] - 1s 17ms/step - loss: 0.0077 - acc: 0.0115\n",
            "Epoch 20/100\n",
            "87/87 [==============================] - 1s 17ms/step - loss: 0.0088 - acc: 0.0115\n",
            "Epoch 21/100\n",
            "87/87 [==============================] - 1s 16ms/step - loss: 0.0065 - acc: 0.0115\n",
            "Epoch 22/100\n",
            "87/87 [==============================] - 1s 17ms/step - loss: 0.0083 - acc: 0.0115\n",
            "Epoch 23/100\n",
            "87/87 [==============================] - 2s 18ms/step - loss: 0.0071 - acc: 0.0115\n",
            "Epoch 24/100\n",
            "87/87 [==============================] - 1s 17ms/step - loss: 0.0075 - acc: 0.0115\n",
            "Epoch 25/100\n",
            "87/87 [==============================] - 1s 17ms/step - loss: 0.0076 - acc: 0.0115\n",
            "Epoch 26/100\n",
            "87/87 [==============================] - 1s 16ms/step - loss: 0.0058 - acc: 0.0115\n",
            "Epoch 27/100\n",
            "87/87 [==============================] - 1s 17ms/step - loss: 0.0056 - acc: 0.0115\n",
            "Epoch 28/100\n",
            "87/87 [==============================] - 1s 17ms/step - loss: 0.0065 - acc: 0.0115\n",
            "Epoch 29/100\n",
            "87/87 [==============================] - 1s 17ms/step - loss: 0.0070 - acc: 0.0115\n",
            "Epoch 30/100\n",
            "87/87 [==============================] - 1s 17ms/step - loss: 0.0052 - acc: 0.0115\n",
            "Epoch 31/100\n",
            "87/87 [==============================] - 1s 17ms/step - loss: 0.0067 - acc: 0.0115\n",
            "Epoch 32/100\n",
            "87/87 [==============================] - 1s 17ms/step - loss: 0.0052 - acc: 0.0115\n",
            "Epoch 33/100\n",
            "87/87 [==============================] - 1s 17ms/step - loss: 0.0069 - acc: 0.0115\n",
            "Epoch 34/100\n",
            "87/87 [==============================] - 1s 17ms/step - loss: 0.0069 - acc: 0.0115\n",
            "Epoch 35/100\n",
            "87/87 [==============================] - 1s 17ms/step - loss: 0.0049 - acc: 0.0115\n",
            "Epoch 36/100\n",
            "87/87 [==============================] - 1s 17ms/step - loss: 0.0056 - acc: 0.0115\n",
            "Epoch 37/100\n",
            "87/87 [==============================] - 1s 17ms/step - loss: 0.0064 - acc: 0.0115\n",
            "Epoch 38/100\n",
            "87/87 [==============================] - 1s 17ms/step - loss: 0.0072 - acc: 0.0115\n",
            "Epoch 39/100\n",
            "87/87 [==============================] - 1s 17ms/step - loss: 0.0069 - acc: 0.0115\n",
            "Epoch 40/100\n",
            "87/87 [==============================] - 1s 17ms/step - loss: 0.0064 - acc: 0.0115\n",
            "Epoch 41/100\n",
            "87/87 [==============================] - 1s 17ms/step - loss: 0.0078 - acc: 0.0115\n",
            "Epoch 42/100\n",
            "87/87 [==============================] - 1s 17ms/step - loss: 0.0080 - acc: 0.0115\n",
            "Epoch 43/100\n",
            "87/87 [==============================] - 1s 17ms/step - loss: 0.0090 - acc: 0.0115\n",
            "Epoch 44/100\n",
            "87/87 [==============================] - 1s 17ms/step - loss: 0.0065 - acc: 0.0115\n",
            "Epoch 45/100\n",
            "87/87 [==============================] - 1s 17ms/step - loss: 0.0063 - acc: 0.0115\n",
            "Epoch 46/100\n",
            "87/87 [==============================] - 1s 16ms/step - loss: 0.0075 - acc: 0.0115\n",
            "Epoch 47/100\n",
            "87/87 [==============================] - 1s 16ms/step - loss: 0.0060 - acc: 0.0115\n",
            "Epoch 48/100\n",
            "87/87 [==============================] - 1s 17ms/step - loss: 0.0066 - acc: 0.0115\n",
            "Epoch 49/100\n",
            "87/87 [==============================] - 2s 17ms/step - loss: 0.0047 - acc: 0.0115\n",
            "Epoch 50/100\n",
            "87/87 [==============================] - 2s 17ms/step - loss: 0.0063 - acc: 0.0115\n",
            "Epoch 51/100\n",
            "87/87 [==============================] - 1s 17ms/step - loss: 0.0057 - acc: 0.0115\n",
            "Epoch 52/100\n",
            "87/87 [==============================] - 2s 17ms/step - loss: 0.0060 - acc: 0.0115\n",
            "Epoch 53/100\n",
            "87/87 [==============================] - 1s 17ms/step - loss: 0.0053 - acc: 0.0115\n",
            "Epoch 54/100\n",
            "87/87 [==============================] - 1s 17ms/step - loss: 0.0050 - acc: 0.0115\n",
            "Epoch 55/100\n",
            "87/87 [==============================] - 1s 17ms/step - loss: 0.0052 - acc: 0.0115\n",
            "Epoch 56/100\n",
            "87/87 [==============================] - 1s 17ms/step - loss: 0.0056 - acc: 0.0115\n",
            "Epoch 57/100\n",
            "87/87 [==============================] - 1s 17ms/step - loss: 0.0053 - acc: 0.0115\n",
            "Epoch 58/100\n",
            "87/87 [==============================] - 1s 17ms/step - loss: 0.0056 - acc: 0.0115\n",
            "Epoch 59/100\n",
            "87/87 [==============================] - 1s 16ms/step - loss: 0.0057 - acc: 0.0115\n",
            "Epoch 60/100\n",
            "87/87 [==============================] - 1s 17ms/step - loss: 0.0050 - acc: 0.0115\n",
            "Epoch 61/100\n",
            "87/87 [==============================] - 1s 17ms/step - loss: 0.0068 - acc: 0.0115\n",
            "Epoch 62/100\n",
            "87/87 [==============================] - 1s 17ms/step - loss: 0.0047 - acc: 0.0115\n",
            "Epoch 63/100\n",
            "87/87 [==============================] - 1s 17ms/step - loss: 0.0054 - acc: 0.0115\n",
            "Epoch 64/100\n",
            "87/87 [==============================] - 1s 17ms/step - loss: 0.0053 - acc: 0.0115\n",
            "Epoch 65/100\n",
            "87/87 [==============================] - 1s 17ms/step - loss: 0.0059 - acc: 0.0115\n",
            "Epoch 66/100\n",
            "87/87 [==============================] - 1s 17ms/step - loss: 0.0055 - acc: 0.0115\n",
            "Epoch 67/100\n",
            "87/87 [==============================] - 1s 17ms/step - loss: 0.0057 - acc: 0.0115\n",
            "Epoch 68/100\n",
            "87/87 [==============================] - 2s 17ms/step - loss: 0.0058 - acc: 0.0115\n",
            "Epoch 69/100\n",
            "87/87 [==============================] - 2s 18ms/step - loss: 0.0053 - acc: 0.0115\n",
            "Epoch 70/100\n",
            "87/87 [==============================] - 1s 17ms/step - loss: 0.0056 - acc: 0.0115\n",
            "Epoch 71/100\n",
            "87/87 [==============================] - 2s 17ms/step - loss: 0.0061 - acc: 0.0115\n",
            "Epoch 72/100\n",
            "87/87 [==============================] - 2s 17ms/step - loss: 0.0056 - acc: 0.0115\n",
            "Epoch 73/100\n",
            "87/87 [==============================] - 1s 17ms/step - loss: 0.0048 - acc: 0.0115\n",
            "Epoch 74/100\n",
            "87/87 [==============================] - 1s 17ms/step - loss: 0.0052 - acc: 0.0115\n",
            "Epoch 75/100\n",
            "87/87 [==============================] - 2s 17ms/step - loss: 0.0049 - acc: 0.0115\n",
            "Epoch 76/100\n",
            "87/87 [==============================] - 1s 17ms/step - loss: 0.0051 - acc: 0.0115\n",
            "Epoch 77/100\n",
            "87/87 [==============================] - 1s 17ms/step - loss: 0.0048 - acc: 0.0115\n",
            "Epoch 78/100\n",
            "87/87 [==============================] - 1s 17ms/step - loss: 0.0041 - acc: 0.0115\n",
            "Epoch 79/100\n",
            "87/87 [==============================] - 1s 17ms/step - loss: 0.0050 - acc: 0.0115\n",
            "Epoch 80/100\n",
            "87/87 [==============================] - 1s 17ms/step - loss: 0.0051 - acc: 0.0115\n",
            "Epoch 81/100\n",
            "87/87 [==============================] - 1s 17ms/step - loss: 0.0058 - acc: 0.0115\n",
            "Epoch 82/100\n",
            "87/87 [==============================] - 1s 17ms/step - loss: 0.0047 - acc: 0.0115\n",
            "Epoch 83/100\n",
            "87/87 [==============================] - 2s 17ms/step - loss: 0.0049 - acc: 0.0115\n",
            "Epoch 84/100\n",
            "87/87 [==============================] - 1s 17ms/step - loss: 0.0046 - acc: 0.0115\n",
            "Epoch 85/100\n",
            "87/87 [==============================] - 1s 17ms/step - loss: 0.0064 - acc: 0.0115\n",
            "Epoch 86/100\n",
            "87/87 [==============================] - 2s 17ms/step - loss: 0.0072 - acc: 0.0115\n",
            "Epoch 87/100\n",
            "87/87 [==============================] - 1s 17ms/step - loss: 0.0057 - acc: 0.0115\n",
            "Epoch 88/100\n",
            "87/87 [==============================] - 2s 17ms/step - loss: 0.0062 - acc: 0.0115\n",
            "Epoch 89/100\n",
            "87/87 [==============================] - 2s 17ms/step - loss: 0.0062 - acc: 0.0115\n",
            "Epoch 90/100\n",
            "87/87 [==============================] - 2s 18ms/step - loss: 0.0046 - acc: 0.0115\n",
            "Epoch 91/100\n",
            "87/87 [==============================] - 2s 17ms/step - loss: 0.0056 - acc: 0.0115\n",
            "Epoch 92/100\n",
            "87/87 [==============================] - 2s 17ms/step - loss: 0.0054 - acc: 0.0115\n",
            "Epoch 93/100\n",
            "87/87 [==============================] - 2s 18ms/step - loss: 0.0042 - acc: 0.0115\n",
            "Epoch 94/100\n",
            "87/87 [==============================] - 2s 18ms/step - loss: 0.0036 - acc: 0.0115\n",
            "Epoch 95/100\n",
            "87/87 [==============================] - 2s 18ms/step - loss: 0.0037 - acc: 0.0115\n",
            "Epoch 96/100\n",
            "87/87 [==============================] - 2s 17ms/step - loss: 0.0052 - acc: 0.0115\n",
            "Epoch 97/100\n",
            "87/87 [==============================] - 2s 18ms/step - loss: 0.0058 - acc: 0.0115\n",
            "Epoch 98/100\n",
            "87/87 [==============================] - 1s 17ms/step - loss: 0.0072 - acc: 0.0115\n",
            "Epoch 99/100\n",
            "87/87 [==============================] - 1s 17ms/step - loss: 0.0063 - acc: 0.0115\n",
            "Epoch 100/100\n",
            "87/87 [==============================] - 1s 17ms/step - loss: 0.0052 - acc: 0.0115\n"
          ],
          "name": "stdout"
        }
      ]
    },
    {
      "cell_type": "code",
      "metadata": {
        "id": "c0RD_gbqAZPq",
        "colab_type": "code",
        "colab": {
          "base_uri": "https://localhost:8080/",
          "height": 408
        },
        "outputId": "29075e87-8af3-44e5-8eb3-a8ccfd6d18d6"
      },
      "source": [
        "import pandas as pd\n",
        "AAPL_test = pd.read_csv(\"AAPL.csv\")\n",
        "AAPL_test.info()\n",
        "AAPL_test.head()"
      ],
      "execution_count": 146,
      "outputs": [
        {
          "output_type": "stream",
          "text": [
            "<class 'pandas.core.frame.DataFrame'>\n",
            "RangeIndex: 253 entries, 0 to 252\n",
            "Data columns (total 7 columns):\n",
            "Date         253 non-null object\n",
            "Open         253 non-null float64\n",
            "High         253 non-null float64\n",
            "Low          253 non-null float64\n",
            "Close        253 non-null float64\n",
            "Adj Close    253 non-null float64\n",
            "Volume       253 non-null int64\n",
            "dtypes: float64(5), int64(1), object(1)\n",
            "memory usage: 14.0+ KB\n"
          ],
          "name": "stdout"
        },
        {
          "output_type": "execute_result",
          "data": {
            "text/html": [
              "<div>\n",
              "<style scoped>\n",
              "    .dataframe tbody tr th:only-of-type {\n",
              "        vertical-align: middle;\n",
              "    }\n",
              "\n",
              "    .dataframe tbody tr th {\n",
              "        vertical-align: top;\n",
              "    }\n",
              "\n",
              "    .dataframe thead th {\n",
              "        text-align: right;\n",
              "    }\n",
              "</style>\n",
              "<table border=\"1\" class=\"dataframe\">\n",
              "  <thead>\n",
              "    <tr style=\"text-align: right;\">\n",
              "      <th></th>\n",
              "      <th>Date</th>\n",
              "      <th>Open</th>\n",
              "      <th>High</th>\n",
              "      <th>Low</th>\n",
              "      <th>Close</th>\n",
              "      <th>Adj Close</th>\n",
              "      <th>Volume</th>\n",
              "    </tr>\n",
              "  </thead>\n",
              "  <tbody>\n",
              "    <tr>\n",
              "      <th>0</th>\n",
              "      <td>2019-01-30</td>\n",
              "      <td>163.250000</td>\n",
              "      <td>166.149994</td>\n",
              "      <td>160.229996</td>\n",
              "      <td>165.250000</td>\n",
              "      <td>162.803864</td>\n",
              "      <td>61109800</td>\n",
              "    </tr>\n",
              "    <tr>\n",
              "      <th>1</th>\n",
              "      <td>2019-01-31</td>\n",
              "      <td>166.110001</td>\n",
              "      <td>169.000000</td>\n",
              "      <td>164.559998</td>\n",
              "      <td>166.440002</td>\n",
              "      <td>163.976242</td>\n",
              "      <td>40739600</td>\n",
              "    </tr>\n",
              "    <tr>\n",
              "      <th>2</th>\n",
              "      <td>2019-02-01</td>\n",
              "      <td>166.960007</td>\n",
              "      <td>168.979996</td>\n",
              "      <td>165.929993</td>\n",
              "      <td>166.520004</td>\n",
              "      <td>164.055069</td>\n",
              "      <td>32668100</td>\n",
              "    </tr>\n",
              "    <tr>\n",
              "      <th>3</th>\n",
              "      <td>2019-02-04</td>\n",
              "      <td>167.410004</td>\n",
              "      <td>171.660004</td>\n",
              "      <td>167.279999</td>\n",
              "      <td>171.250000</td>\n",
              "      <td>168.715042</td>\n",
              "      <td>31495500</td>\n",
              "    </tr>\n",
              "    <tr>\n",
              "      <th>4</th>\n",
              "      <td>2019-02-05</td>\n",
              "      <td>172.860001</td>\n",
              "      <td>175.080002</td>\n",
              "      <td>172.350006</td>\n",
              "      <td>174.179993</td>\n",
              "      <td>171.601685</td>\n",
              "      <td>36101600</td>\n",
              "    </tr>\n",
              "  </tbody>\n",
              "</table>\n",
              "</div>"
            ],
            "text/plain": [
              "         Date        Open        High  ...       Close   Adj Close    Volume\n",
              "0  2019-01-30  163.250000  166.149994  ...  165.250000  162.803864  61109800\n",
              "1  2019-01-31  166.110001  169.000000  ...  166.440002  163.976242  40739600\n",
              "2  2019-02-01  166.960007  168.979996  ...  166.520004  164.055069  32668100\n",
              "3  2019-02-04  167.410004  171.660004  ...  171.250000  168.715042  31495500\n",
              "4  2019-02-05  172.860001  175.080002  ...  174.179993  171.601685  36101600\n",
              "\n",
              "[5 rows x 7 columns]"
            ]
          },
          "metadata": {
            "tags": []
          },
          "execution_count": 146
        }
      ]
    },
    {
      "cell_type": "code",
      "metadata": {
        "id": "XAZ2PAa6Antn",
        "colab_type": "code",
        "colab": {
          "base_uri": "https://localhost:8080/",
          "height": 34
        },
        "outputId": "cb8537d0-e966-4843-f4a6-65d4859064b2"
      },
      "source": [
        "testing_dataset = AAPL_test.iloc[:,1:2].values\n",
        "x = pd.DataFrame(testing_dataset)\n",
        "y = pd.DataFrame(training_data)\n",
        "total = pd.concat([df['Open'] ,AAPL_test['Open']] , axis = 0)\n",
        "print(type(total))\n",
        "total = total.drop_duplicates()"
      ],
      "execution_count": 158,
      "outputs": [
        {
          "output_type": "stream",
          "text": [
            "<class 'pandas.core.series.Series'>\n"
          ],
          "name": "stdout"
        }
      ]
    },
    {
      "cell_type": "code",
      "metadata": {
        "id": "HbLr13VoAueQ",
        "colab_type": "code",
        "colab": {
          "base_uri": "https://localhost:8080/",
          "height": 34
        },
        "outputId": "ec6eb282-41c4-4e9d-cf5f-397438797dae"
      },
      "source": [
        "total.shape\n"
      ],
      "execution_count": 148,
      "outputs": [
        {
          "output_type": "execute_result",
          "data": {
            "text/plain": [
              "(248,)"
            ]
          },
          "metadata": {
            "tags": []
          },
          "execution_count": 148
        }
      ]
    },
    {
      "cell_type": "code",
      "metadata": {
        "id": "uAQZJ9FxAzWz",
        "colab_type": "code",
        "colab": {}
      },
      "source": [
        "#prepare the test input.......\n",
        "test_inputs = total[len(total) - len(AAPL_test) - 160:].values"
      ],
      "execution_count": 0,
      "outputs": []
    },
    {
      "cell_type": "code",
      "metadata": {
        "id": "nk3I6epmA3N1",
        "colab_type": "code",
        "colab": {
          "base_uri": "https://localhost:8080/",
          "height": 51
        },
        "outputId": "31395031-edb6-43f6-8588-8cfb5dded477"
      },
      "source": [
        "#reshape the test data........\n",
        "test_inputs = test_inputs.reshape(-1,1)\n",
        "test_inputs = scaler.transform(test_inputs)\n",
        "print(test_inputs.shape)\n",
        "print(testing_dataset.shape)"
      ],
      "execution_count": 160,
      "outputs": [
        {
          "output_type": "stream",
          "text": [
            "(165, 1)\n",
            "(253, 1)\n"
          ],
          "name": "stdout"
        }
      ]
    },
    {
      "cell_type": "code",
      "metadata": {
        "id": "JWwt1TQ0BCrJ",
        "colab_type": "code",
        "colab": {}
      },
      "source": [
        "test_features = []\n",
        "for i in range(-88,165):\n",
        "    test_features.append(test_inputs[i+88:i, 0])"
      ],
      "execution_count": 0,
      "outputs": []
    },
    {
      "cell_type": "code",
      "metadata": {
        "id": "WaP-4pKdBMxl",
        "colab_type": "code",
        "colab": {
          "base_uri": "https://localhost:8080/",
          "height": 180
        },
        "outputId": "04ad9729-eeda-43e2-c033-c83bc06e4438"
      },
      "source": [
        "test_features = np.array(test_features)\n",
        "test_features = np.reshape(test_features, (test_features.shape[0], test_features.shape[1], 1))"
      ],
      "execution_count": 162,
      "outputs": [
        {
          "output_type": "error",
          "ename": "IndexError",
          "evalue": "ignored",
          "traceback": [
            "\u001b[0;31m---------------------------------------------------------------------------\u001b[0m",
            "\u001b[0;31mIndexError\u001b[0m                                Traceback (most recent call last)",
            "\u001b[0;32m<ipython-input-162-c3bc9c0a3a0c>\u001b[0m in \u001b[0;36m<module>\u001b[0;34m()\u001b[0m\n\u001b[1;32m      1\u001b[0m \u001b[0mtest_features\u001b[0m \u001b[0;34m=\u001b[0m \u001b[0mnp\u001b[0m\u001b[0;34m.\u001b[0m\u001b[0marray\u001b[0m\u001b[0;34m(\u001b[0m\u001b[0mtest_features\u001b[0m\u001b[0;34m)\u001b[0m\u001b[0;34m\u001b[0m\u001b[0;34m\u001b[0m\u001b[0m\n\u001b[0;32m----> 2\u001b[0;31m \u001b[0mtest_features\u001b[0m \u001b[0;34m=\u001b[0m \u001b[0mnp\u001b[0m\u001b[0;34m.\u001b[0m\u001b[0mreshape\u001b[0m\u001b[0;34m(\u001b[0m\u001b[0mtest_features\u001b[0m\u001b[0;34m,\u001b[0m \u001b[0;34m(\u001b[0m\u001b[0mtest_features\u001b[0m\u001b[0;34m.\u001b[0m\u001b[0mshape\u001b[0m\u001b[0;34m[\u001b[0m\u001b[0;36m0\u001b[0m\u001b[0;34m]\u001b[0m\u001b[0;34m,\u001b[0m \u001b[0mtest_features\u001b[0m\u001b[0;34m.\u001b[0m\u001b[0mshape\u001b[0m\u001b[0;34m[\u001b[0m\u001b[0;36m1\u001b[0m\u001b[0;34m]\u001b[0m\u001b[0;34m,\u001b[0m \u001b[0;36m1\u001b[0m\u001b[0;34m)\u001b[0m\u001b[0;34m)\u001b[0m\u001b[0;34m\u001b[0m\u001b[0;34m\u001b[0m\u001b[0m\n\u001b[0m",
            "\u001b[0;31mIndexError\u001b[0m: tuple index out of range"
          ]
        }
      ]
    },
    {
      "cell_type": "code",
      "metadata": {
        "id": "wOv7J_vUFX7s",
        "colab_type": "code",
        "colab": {}
      },
      "source": [
        "print(test_features)"
      ],
      "execution_count": 0,
      "outputs": []
    },
    {
      "cell_type": "code",
      "metadata": {
        "id": "zIaqFfNOKojk",
        "colab_type": "code",
        "colab": {
          "base_uri": "https://localhost:8080/",
          "height": 479
        },
        "outputId": "f0ca0a73-7628-410b-fc6a-ad97fb281435"
      },
      "source": [
        "#prediction\n",
        "predictions = model.predict(test_features)"
      ],
      "execution_count": 120,
      "outputs": [
        {
          "output_type": "error",
          "ename": "ValueError",
          "evalue": "ignored",
          "traceback": [
            "\u001b[0;31m---------------------------------------------------------------------------\u001b[0m",
            "\u001b[0;31mValueError\u001b[0m                                Traceback (most recent call last)",
            "\u001b[0;32m<ipython-input-120-efcc87861148>\u001b[0m in \u001b[0;36m<module>\u001b[0;34m()\u001b[0m\n\u001b[0;32m----> 1\u001b[0;31m \u001b[0mpredictions\u001b[0m \u001b[0;34m=\u001b[0m \u001b[0mmodel\u001b[0m\u001b[0;34m.\u001b[0m\u001b[0mpredict\u001b[0m\u001b[0;34m(\u001b[0m\u001b[0mtest_features\u001b[0m\u001b[0;34m)\u001b[0m\u001b[0;34m\u001b[0m\u001b[0;34m\u001b[0m\u001b[0m\n\u001b[0m",
            "\u001b[0;32m/usr/local/lib/python3.6/dist-packages/keras/engine/training.py\u001b[0m in \u001b[0;36mpredict\u001b[0;34m(self, x, batch_size, verbose, steps, callbacks, max_queue_size, workers, use_multiprocessing)\u001b[0m\n\u001b[1;32m   1378\u001b[0m \u001b[0;34m\u001b[0m\u001b[0m\n\u001b[1;32m   1379\u001b[0m         \u001b[0;31m# Case 2: Symbolic tensors or Numpy array-like.\u001b[0m\u001b[0;34m\u001b[0m\u001b[0;34m\u001b[0m\u001b[0;34m\u001b[0m\u001b[0m\n\u001b[0;32m-> 1380\u001b[0;31m         \u001b[0mx\u001b[0m\u001b[0;34m,\u001b[0m \u001b[0m_\u001b[0m\u001b[0;34m,\u001b[0m \u001b[0m_\u001b[0m \u001b[0;34m=\u001b[0m \u001b[0mself\u001b[0m\u001b[0;34m.\u001b[0m\u001b[0m_standardize_user_data\u001b[0m\u001b[0;34m(\u001b[0m\u001b[0mx\u001b[0m\u001b[0;34m)\u001b[0m\u001b[0;34m\u001b[0m\u001b[0;34m\u001b[0m\u001b[0m\n\u001b[0m\u001b[1;32m   1381\u001b[0m         \u001b[0;32mif\u001b[0m \u001b[0mself\u001b[0m\u001b[0;34m.\u001b[0m\u001b[0mstateful\u001b[0m\u001b[0;34m:\u001b[0m\u001b[0;34m\u001b[0m\u001b[0;34m\u001b[0m\u001b[0m\n\u001b[1;32m   1382\u001b[0m             \u001b[0;32mif\u001b[0m \u001b[0mx\u001b[0m\u001b[0;34m[\u001b[0m\u001b[0;36m0\u001b[0m\u001b[0;34m]\u001b[0m\u001b[0;34m.\u001b[0m\u001b[0mshape\u001b[0m\u001b[0;34m[\u001b[0m\u001b[0;36m0\u001b[0m\u001b[0;34m]\u001b[0m \u001b[0;34m>\u001b[0m \u001b[0mbatch_size\u001b[0m \u001b[0;32mand\u001b[0m \u001b[0mx\u001b[0m\u001b[0;34m[\u001b[0m\u001b[0;36m0\u001b[0m\u001b[0;34m]\u001b[0m\u001b[0;34m.\u001b[0m\u001b[0mshape\u001b[0m\u001b[0;34m[\u001b[0m\u001b[0;36m0\u001b[0m\u001b[0;34m]\u001b[0m \u001b[0;34m%\u001b[0m \u001b[0mbatch_size\u001b[0m \u001b[0;34m!=\u001b[0m \u001b[0;36m0\u001b[0m\u001b[0;34m:\u001b[0m\u001b[0;34m\u001b[0m\u001b[0;34m\u001b[0m\u001b[0m\n",
            "\u001b[0;32m/usr/local/lib/python3.6/dist-packages/keras/engine/training.py\u001b[0m in \u001b[0;36m_standardize_user_data\u001b[0;34m(self, x, y, sample_weight, class_weight, check_array_lengths, batch_size)\u001b[0m\n\u001b[1;32m    755\u001b[0m             \u001b[0mfeed_input_shapes\u001b[0m\u001b[0;34m,\u001b[0m\u001b[0;34m\u001b[0m\u001b[0;34m\u001b[0m\u001b[0m\n\u001b[1;32m    756\u001b[0m             \u001b[0mcheck_batch_axis\u001b[0m\u001b[0;34m=\u001b[0m\u001b[0;32mFalse\u001b[0m\u001b[0;34m,\u001b[0m  \u001b[0;31m# Don't enforce the batch size.\u001b[0m\u001b[0;34m\u001b[0m\u001b[0;34m\u001b[0m\u001b[0m\n\u001b[0;32m--> 757\u001b[0;31m             exception_prefix='input')\n\u001b[0m\u001b[1;32m    758\u001b[0m \u001b[0;34m\u001b[0m\u001b[0m\n\u001b[1;32m    759\u001b[0m         \u001b[0;32mif\u001b[0m \u001b[0my\u001b[0m \u001b[0;32mis\u001b[0m \u001b[0;32mnot\u001b[0m \u001b[0;32mNone\u001b[0m\u001b[0;34m:\u001b[0m\u001b[0;34m\u001b[0m\u001b[0;34m\u001b[0m\u001b[0m\n",
            "\u001b[0;32m/usr/local/lib/python3.6/dist-packages/keras/engine/training_utils.py\u001b[0m in \u001b[0;36mstandardize_input_data\u001b[0;34m(data, names, shapes, check_batch_axis, exception_prefix)\u001b[0m\n\u001b[1;32m    103\u001b[0m                 \u001b[0;34m'Expected to see '\u001b[0m \u001b[0;34m+\u001b[0m \u001b[0mstr\u001b[0m\u001b[0;34m(\u001b[0m\u001b[0mlen\u001b[0m\u001b[0;34m(\u001b[0m\u001b[0mnames\u001b[0m\u001b[0;34m)\u001b[0m\u001b[0;34m)\u001b[0m \u001b[0;34m+\u001b[0m \u001b[0;34m' array(s), '\u001b[0m\u001b[0;34m\u001b[0m\u001b[0;34m\u001b[0m\u001b[0m\n\u001b[1;32m    104\u001b[0m                 \u001b[0;34m'but instead got the following list of '\u001b[0m \u001b[0;34m+\u001b[0m\u001b[0;34m\u001b[0m\u001b[0;34m\u001b[0m\u001b[0m\n\u001b[0;32m--> 105\u001b[0;31m                 str(len(data)) + ' arrays: ' + str(data)[:200] + '...')\n\u001b[0m\u001b[1;32m    106\u001b[0m         \u001b[0;32melif\u001b[0m \u001b[0mlen\u001b[0m\u001b[0;34m(\u001b[0m\u001b[0mnames\u001b[0m\u001b[0;34m)\u001b[0m \u001b[0;34m>\u001b[0m \u001b[0;36m1\u001b[0m\u001b[0;34m:\u001b[0m\u001b[0;34m\u001b[0m\u001b[0;34m\u001b[0m\u001b[0m\n\u001b[1;32m    107\u001b[0m             raise ValueError(\n",
            "\u001b[0;31mValueError\u001b[0m: Error when checking model input: the list of Numpy arrays that you are passing to your model is not the size the model expected. Expected to see 1 array(s), but instead got the following list of 65 arrays: [array([[-1.01903863],\n       [-1.01903863],\n       [-1.01903863],\n       [-1.01903863],\n       [-1.01903863],\n       [-1.01903863],\n       [-1.01903863],\n       [-1.01903863],\n       [-1.01903863],\n ..."
          ]
        }
      ]
    }
  ]
}