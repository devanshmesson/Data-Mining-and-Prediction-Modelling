{
  "nbformat": 4,
  "nbformat_minor": 0,
  "metadata": {
    "colab": {
      "name": "Untitled12.ipynb",
      "provenance": [],
      "authorship_tag": "ABX9TyN0Kpj2TmLNFv1+8tInN5vU",
      "include_colab_link": true
    },
    "kernelspec": {
      "name": "python3",
      "display_name": "Python 3"
    }
  },
  "cells": [
    {
      "cell_type": "markdown",
      "metadata": {
        "id": "view-in-github",
        "colab_type": "text"
      },
      "source": [
        "<a href=\"https://colab.research.google.com/github/zeph0yr/Data-Mining-and-Prediction-Modelling/blob/master/LSTM(Finalized).ipynb\" target=\"_parent\"><img src=\"https://colab.research.google.com/assets/colab-badge.svg\" alt=\"Open In Colab\"/></a>"
      ]
    },
    {
      "cell_type": "code",
      "metadata": {
        "id": "CZI5fD3wDeGa",
        "colab_type": "code",
        "colab": {}
      },
      "source": [
        "import pandas as pd\n",
        "import numpy as np\n",
        "%matplotlib inline\n",
        "import matplotlib.pyplot as plt\n",
        "import matplotlib\n",
        "from sklearn.preprocessing import MinMaxScaler\n",
        "from keras.layers import LSTM,Dense,Dropout\n",
        "from sklearn.model_selection import TimeSeriesSplit\n",
        "from sklearn.metrics import mean_squared_error, r2_score\n",
        "import matplotlib.dates as mdates\n",
        "from sklearn import linear_model"
      ],
      "execution_count": 0,
      "outputs": []
    },
    {
      "cell_type": "code",
      "metadata": {
        "id": "lE04zzwkFpEG",
        "colab_type": "code",
        "colab": {}
      },
      "source": [
        "df_final = pd.read_csv(\"app.csv\",na_values=['null'],index_col='Date',parse_dates=True,infer_datetime_format=True)\n",
        "#feature scaling\n",
        "#from sklearn.preprocessing import MinMaxScaler\n",
        "#sc = MinMaxScaler(feature_range = (0, 1))\n",
        "#df= sc.fit_transform(df_final)"
      ],
      "execution_count": 0,
      "outputs": []
    },
    {
      "cell_type": "code",
      "metadata": {
        "id": "nCbyqaKWGSGj",
        "colab_type": "code",
        "outputId": "497937bb-6cbc-4b90-e321-1320348b4ea9",
        "colab": {
          "base_uri": "https://localhost:8080/",
          "height": 235
        }
      },
      "source": [
        "df_final.head()\n",
        "\n"
      ],
      "execution_count": 0,
      "outputs": [
        {
          "output_type": "execute_result",
          "data": {
            "text/html": [
              "<div>\n",
              "<style scoped>\n",
              "    .dataframe tbody tr th:only-of-type {\n",
              "        vertical-align: middle;\n",
              "    }\n",
              "\n",
              "    .dataframe tbody tr th {\n",
              "        vertical-align: top;\n",
              "    }\n",
              "\n",
              "    .dataframe thead th {\n",
              "        text-align: right;\n",
              "    }\n",
              "</style>\n",
              "<table border=\"1\" class=\"dataframe\">\n",
              "  <thead>\n",
              "    <tr style=\"text-align: right;\">\n",
              "      <th></th>\n",
              "      <th>Open</th>\n",
              "      <th>High</th>\n",
              "      <th>Low</th>\n",
              "      <th>Close</th>\n",
              "      <th>Adj Close</th>\n",
              "      <th>Volume</th>\n",
              "    </tr>\n",
              "    <tr>\n",
              "      <th>Date</th>\n",
              "      <th></th>\n",
              "      <th></th>\n",
              "      <th></th>\n",
              "      <th></th>\n",
              "      <th></th>\n",
              "      <th></th>\n",
              "    </tr>\n",
              "  </thead>\n",
              "  <tbody>\n",
              "    <tr>\n",
              "      <th>1990-01-02</th>\n",
              "      <td>1.258929</td>\n",
              "      <td>1.339286</td>\n",
              "      <td>1.250000</td>\n",
              "      <td>1.330357</td>\n",
              "      <td>1.081430</td>\n",
              "      <td>45799600</td>\n",
              "    </tr>\n",
              "    <tr>\n",
              "      <th>1990-01-03</th>\n",
              "      <td>1.357143</td>\n",
              "      <td>1.357143</td>\n",
              "      <td>1.339286</td>\n",
              "      <td>1.339286</td>\n",
              "      <td>1.088688</td>\n",
              "      <td>51998800</td>\n",
              "    </tr>\n",
              "    <tr>\n",
              "      <th>1990-01-04</th>\n",
              "      <td>1.366071</td>\n",
              "      <td>1.383929</td>\n",
              "      <td>1.330357</td>\n",
              "      <td>1.343750</td>\n",
              "      <td>1.092317</td>\n",
              "      <td>55378400</td>\n",
              "    </tr>\n",
              "    <tr>\n",
              "      <th>1990-01-05</th>\n",
              "      <td>1.348214</td>\n",
              "      <td>1.366071</td>\n",
              "      <td>1.321429</td>\n",
              "      <td>1.348214</td>\n",
              "      <td>1.095946</td>\n",
              "      <td>30828000</td>\n",
              "    </tr>\n",
              "    <tr>\n",
              "      <th>1990-01-08</th>\n",
              "      <td>1.339286</td>\n",
              "      <td>1.357143</td>\n",
              "      <td>1.321429</td>\n",
              "      <td>1.357143</td>\n",
              "      <td>1.103203</td>\n",
              "      <td>25393200</td>\n",
              "    </tr>\n",
              "  </tbody>\n",
              "</table>\n",
              "</div>"
            ],
            "text/plain": [
              "                Open      High       Low     Close  Adj Close    Volume\n",
              "Date                                                                   \n",
              "1990-01-02  1.258929  1.339286  1.250000  1.330357   1.081430  45799600\n",
              "1990-01-03  1.357143  1.357143  1.339286  1.339286   1.088688  51998800\n",
              "1990-01-04  1.366071  1.383929  1.330357  1.343750   1.092317  55378400\n",
              "1990-01-05  1.348214  1.366071  1.321429  1.348214   1.095946  30828000\n",
              "1990-01-08  1.339286  1.357143  1.321429  1.357143   1.103203  25393200"
            ]
          },
          "metadata": {
            "tags": []
          },
          "execution_count": 109
        }
      ]
    },
    {
      "cell_type": "code",
      "metadata": {
        "id": "4dLTugIuG98F",
        "colab_type": "code",
        "outputId": "45238f5f-d373-4901-8787-4acfec1206ca",
        "colab": {
          "base_uri": "https://localhost:8080/",
          "height": 34
        }
      },
      "source": [
        "df_final.shape\n"
      ],
      "execution_count": 0,
      "outputs": [
        {
          "output_type": "execute_result",
          "data": {
            "text/plain": [
              "(7579, 6)"
            ]
          },
          "metadata": {
            "tags": []
          },
          "execution_count": 110
        }
      ]
    },
    {
      "cell_type": "code",
      "metadata": {
        "id": "ZmEukDwLHClh",
        "colab_type": "code",
        "outputId": "1e729a64-e667-447e-a15a-27b52bae5594",
        "colab": {
          "base_uri": "https://localhost:8080/",
          "height": 297
        }
      },
      "source": [
        "df_final.describe()\n"
      ],
      "execution_count": 0,
      "outputs": [
        {
          "output_type": "execute_result",
          "data": {
            "text/html": [
              "<div>\n",
              "<style scoped>\n",
              "    .dataframe tbody tr th:only-of-type {\n",
              "        vertical-align: middle;\n",
              "    }\n",
              "\n",
              "    .dataframe tbody tr th {\n",
              "        vertical-align: top;\n",
              "    }\n",
              "\n",
              "    .dataframe thead th {\n",
              "        text-align: right;\n",
              "    }\n",
              "</style>\n",
              "<table border=\"1\" class=\"dataframe\">\n",
              "  <thead>\n",
              "    <tr style=\"text-align: right;\">\n",
              "      <th></th>\n",
              "      <th>Open</th>\n",
              "      <th>High</th>\n",
              "      <th>Low</th>\n",
              "      <th>Close</th>\n",
              "      <th>Adj Close</th>\n",
              "      <th>Volume</th>\n",
              "    </tr>\n",
              "  </thead>\n",
              "  <tbody>\n",
              "    <tr>\n",
              "      <th>count</th>\n",
              "      <td>7579.000000</td>\n",
              "      <td>7579.000000</td>\n",
              "      <td>7579.000000</td>\n",
              "      <td>7579.000000</td>\n",
              "      <td>7579.000000</td>\n",
              "      <td>7.579000e+03</td>\n",
              "    </tr>\n",
              "    <tr>\n",
              "      <th>mean</th>\n",
              "      <td>40.778490</td>\n",
              "      <td>41.166883</td>\n",
              "      <td>40.381736</td>\n",
              "      <td>40.789104</td>\n",
              "      <td>38.260195</td>\n",
              "      <td>9.975143e+07</td>\n",
              "    </tr>\n",
              "    <tr>\n",
              "      <th>std</th>\n",
              "      <td>61.037141</td>\n",
              "      <td>61.569601</td>\n",
              "      <td>60.539795</td>\n",
              "      <td>61.088480</td>\n",
              "      <td>59.389444</td>\n",
              "      <td>9.200897e+07</td>\n",
              "    </tr>\n",
              "    <tr>\n",
              "      <th>min</th>\n",
              "      <td>0.459821</td>\n",
              "      <td>0.473214</td>\n",
              "      <td>0.455357</td>\n",
              "      <td>0.462054</td>\n",
              "      <td>0.402033</td>\n",
              "      <td>5.992000e+05</td>\n",
              "    </tr>\n",
              "    <tr>\n",
              "      <th>25%</th>\n",
              "      <td>1.428571</td>\n",
              "      <td>1.459821</td>\n",
              "      <td>1.401786</td>\n",
              "      <td>1.428571</td>\n",
              "      <td>1.219695</td>\n",
              "      <td>4.017045e+07</td>\n",
              "    </tr>\n",
              "    <tr>\n",
              "      <th>50%</th>\n",
              "      <td>4.937143</td>\n",
              "      <td>5.065714</td>\n",
              "      <td>4.839286</td>\n",
              "      <td>4.967143</td>\n",
              "      <td>4.321916</td>\n",
              "      <td>7.026320e+07</td>\n",
              "    </tr>\n",
              "    <tr>\n",
              "      <th>75%</th>\n",
              "      <td>65.364998</td>\n",
              "      <td>65.761429</td>\n",
              "      <td>64.740715</td>\n",
              "      <td>65.225712</td>\n",
              "      <td>57.521214</td>\n",
              "      <td>1.262762e+08</td>\n",
              "    </tr>\n",
              "    <tr>\n",
              "      <th>max</th>\n",
              "      <td>324.450012</td>\n",
              "      <td>327.850006</td>\n",
              "      <td>321.380005</td>\n",
              "      <td>324.339996</td>\n",
              "      <td>324.339996</td>\n",
              "      <td>1.855410e+09</td>\n",
              "    </tr>\n",
              "  </tbody>\n",
              "</table>\n",
              "</div>"
            ],
            "text/plain": [
              "              Open         High  ...    Adj Close        Volume\n",
              "count  7579.000000  7579.000000  ...  7579.000000  7.579000e+03\n",
              "mean     40.778490    41.166883  ...    38.260195  9.975143e+07\n",
              "std      61.037141    61.569601  ...    59.389444  9.200897e+07\n",
              "min       0.459821     0.473214  ...     0.402033  5.992000e+05\n",
              "25%       1.428571     1.459821  ...     1.219695  4.017045e+07\n",
              "50%       4.937143     5.065714  ...     4.321916  7.026320e+07\n",
              "75%      65.364998    65.761429  ...    57.521214  1.262762e+08\n",
              "max     324.450012   327.850006  ...   324.339996  1.855410e+09\n",
              "\n",
              "[8 rows x 6 columns]"
            ]
          },
          "metadata": {
            "tags": []
          },
          "execution_count": 111
        }
      ]
    },
    {
      "cell_type": "code",
      "metadata": {
        "id": "fgryYLU4HEt8",
        "colab_type": "code",
        "outputId": "dd4e1a77-b1ab-4760-d07c-1e8c9f62e384",
        "colab": {
          "base_uri": "https://localhost:8080/",
          "height": 34
        }
      },
      "source": [
        "df_final.isnull().values.any()\n"
      ],
      "execution_count": 0,
      "outputs": [
        {
          "output_type": "execute_result",
          "data": {
            "text/plain": [
              "False"
            ]
          },
          "metadata": {
            "tags": []
          },
          "execution_count": 112
        }
      ]
    },
    {
      "cell_type": "code",
      "metadata": {
        "id": "0ci_1L4DHHpk",
        "colab_type": "code",
        "outputId": "77961417-bf45-44b8-95ed-33c43e8f1e50",
        "colab": {
          "base_uri": "https://localhost:8080/",
          "height": 286
        }
      },
      "source": [
        "df_final['Adj Close'].plot()\n"
      ],
      "execution_count": 0,
      "outputs": [
        {
          "output_type": "execute_result",
          "data": {
            "text/plain": [
              "<matplotlib.axes._subplots.AxesSubplot at 0x7fce3382f748>"
            ]
          },
          "metadata": {
            "tags": []
          },
          "execution_count": 113
        },
        {
          "output_type": "display_data",
          "data": {
            "image/png": "[encoded data removed]",
            "text/plain": [
              "<Figure size 432x288 with 1 Axes>"
            ]
          },
          "metadata": {
            "tags": []
          }
        }
      ]
    },
    {
      "cell_type": "code",
      "metadata": {
        "id": "6MknoTPVHKC3",
        "colab_type": "code",
        "colab": {}
      },
      "source": [
        "X=df_final.drop(['Adj Close'],axis=1)\n",
        "X=X.drop(['Close'],axis=1)"
      ],
      "execution_count": 0,
      "outputs": []
    },
    {
      "cell_type": "code",
      "metadata": {
        "id": "noH8f-IcHvAC",
        "colab_type": "code",
        "outputId": "0d91fc97-2aeb-4f89-8561-1370eb02f7cd",
        "colab": {
          "base_uri": "https://localhost:8080/",
          "height": 364
        }
      },
      "source": [
        "X.corrwith(df_final['Adj Close']).plot.bar(\n",
        "        figsize = (10, 4), title = \"Correlation with Adj Close\", fontsize = 20,\n",
        "        rot = 90, grid = True)"
      ],
      "execution_count": 0,
      "outputs": [
        {
          "output_type": "execute_result",
          "data": {
            "text/plain": [
              "<matplotlib.axes._subplots.AxesSubplot at 0x7fce323bfac8>"
            ]
          },
          "metadata": {
            "tags": []
          },
          "execution_count": 115
        },
        {
          "output_type": "display_data",
          "data": {
            "image/png": "[encoded data removed]",
            "text/plain": [
              "<Figure size 720x288 with 1 Axes>"
            ]
          },
          "metadata": {
            "tags": []
          }
        }
      ]
    },
    {
      "cell_type": "code",
      "metadata": {
        "id": "bRYhkUdhH4a6",
        "colab_type": "code",
        "outputId": "72a57390-7471-4bb2-8469-d1aa5c3cf6c3",
        "colab": {
          "base_uri": "https://localhost:8080/",
          "height": 235
        }
      },
      "source": [
        "test = df_final\n",
        "# Target column\n",
        "target_adj_close = pd.DataFrame(test['Adj Close'])\n",
        "display(test.head())"
      ],
      "execution_count": 0,
      "outputs": [
        {
          "output_type": "display_data",
          "data": {
            "text/html": [
              "<div>\n",
              "<style scoped>\n",
              "    .dataframe tbody tr th:only-of-type {\n",
              "        vertical-align: middle;\n",
              "    }\n",
              "\n",
              "    .dataframe tbody tr th {\n",
              "        vertical-align: top;\n",
              "    }\n",
              "\n",
              "    .dataframe thead th {\n",
              "        text-align: right;\n",
              "    }\n",
              "</style>\n",
              "<table border=\"1\" class=\"dataframe\">\n",
              "  <thead>\n",
              "    <tr style=\"text-align: right;\">\n",
              "      <th></th>\n",
              "      <th>Open</th>\n",
              "      <th>High</th>\n",
              "      <th>Low</th>\n",
              "      <th>Close</th>\n",
              "      <th>Adj Close</th>\n",
              "      <th>Volume</th>\n",
              "    </tr>\n",
              "    <tr>\n",
              "      <th>Date</th>\n",
              "      <th></th>\n",
              "      <th></th>\n",
              "      <th></th>\n",
              "      <th></th>\n",
              "      <th></th>\n",
              "      <th></th>\n",
              "    </tr>\n",
              "  </thead>\n",
              "  <tbody>\n",
              "    <tr>\n",
              "      <th>1990-01-02</th>\n",
              "      <td>1.258929</td>\n",
              "      <td>1.339286</td>\n",
              "      <td>1.250000</td>\n",
              "      <td>1.330357</td>\n",
              "      <td>1.081430</td>\n",
              "      <td>45799600</td>\n",
              "    </tr>\n",
              "    <tr>\n",
              "      <th>1990-01-03</th>\n",
              "      <td>1.357143</td>\n",
              "      <td>1.357143</td>\n",
              "      <td>1.339286</td>\n",
              "      <td>1.339286</td>\n",
              "      <td>1.088688</td>\n",
              "      <td>51998800</td>\n",
              "    </tr>\n",
              "    <tr>\n",
              "      <th>1990-01-04</th>\n",
              "      <td>1.366071</td>\n",
              "      <td>1.383929</td>\n",
              "      <td>1.330357</td>\n",
              "      <td>1.343750</td>\n",
              "      <td>1.092317</td>\n",
              "      <td>55378400</td>\n",
              "    </tr>\n",
              "    <tr>\n",
              "      <th>1990-01-05</th>\n",
              "      <td>1.348214</td>\n",
              "      <td>1.366071</td>\n",
              "      <td>1.321429</td>\n",
              "      <td>1.348214</td>\n",
              "      <td>1.095946</td>\n",
              "      <td>30828000</td>\n",
              "    </tr>\n",
              "    <tr>\n",
              "      <th>1990-01-08</th>\n",
              "      <td>1.339286</td>\n",
              "      <td>1.357143</td>\n",
              "      <td>1.321429</td>\n",
              "      <td>1.357143</td>\n",
              "      <td>1.103203</td>\n",
              "      <td>25393200</td>\n",
              "    </tr>\n",
              "  </tbody>\n",
              "</table>\n",
              "</div>"
            ],
            "text/plain": [
              "                Open      High       Low     Close  Adj Close    Volume\n",
              "Date                                                                   \n",
              "1990-01-02  1.258929  1.339286  1.250000  1.330357   1.081430  45799600\n",
              "1990-01-03  1.357143  1.357143  1.339286  1.339286   1.088688  51998800\n",
              "1990-01-04  1.366071  1.383929  1.330357  1.343750   1.092317  55378400\n",
              "1990-01-05  1.348214  1.366071  1.321429  1.348214   1.095946  30828000\n",
              "1990-01-08  1.339286  1.357143  1.321429  1.357143   1.103203  25393200"
            ]
          },
          "metadata": {
            "tags": []
          }
        }
      ]
    },
    {
      "cell_type": "code",
      "metadata": {
        "id": "qJFgO3f7H7wS",
        "colab_type": "code",
        "colab": {}
      },
      "source": [
        "# selecting Feature Columns\n",
        "feature_columns = ['Open', 'High', 'Low', 'Volume']"
      ],
      "execution_count": 0,
      "outputs": []
    },
    {
      "cell_type": "code",
      "metadata": {
        "id": "O4ENURsdH9-Y",
        "colab_type": "code",
        "outputId": "71cd0618-6924-4996-b436-a7e3a1aec039",
        "colab": {
          "base_uri": "https://localhost:8080/",
          "height": 235
        }
      },
      "source": [
        "from sklearn.preprocessing import MinMaxScaler\n",
        "scaler = MinMaxScaler()\n",
        "feature_minmax_transform_data = scaler.fit_transform(test[feature_columns])\n",
        "feature_minmax_transform = pd.DataFrame(columns=feature_columns, data=feature_minmax_transform_data, index=test.index)\n",
        "feature_minmax_transform.head()"
      ],
      "execution_count": 0,
      "outputs": [
        {
          "output_type": "execute_result",
          "data": {
            "text/html": [
              "<div>\n",
              "<style scoped>\n",
              "    .dataframe tbody tr th:only-of-type {\n",
              "        vertical-align: middle;\n",
              "    }\n",
              "\n",
              "    .dataframe tbody tr th {\n",
              "        vertical-align: top;\n",
              "    }\n",
              "\n",
              "    .dataframe thead th {\n",
              "        text-align: right;\n",
              "    }\n",
              "</style>\n",
              "<table border=\"1\" class=\"dataframe\">\n",
              "  <thead>\n",
              "    <tr style=\"text-align: right;\">\n",
              "      <th></th>\n",
              "      <th>Open</th>\n",
              "      <th>High</th>\n",
              "      <th>Low</th>\n",
              "      <th>Volume</th>\n",
              "    </tr>\n",
              "    <tr>\n",
              "      <th>Date</th>\n",
              "      <th></th>\n",
              "      <th></th>\n",
              "      <th></th>\n",
              "      <th></th>\n",
              "    </tr>\n",
              "  </thead>\n",
              "  <tbody>\n",
              "    <tr>\n",
              "      <th>1990-01-02</th>\n",
              "      <td>0.002466</td>\n",
              "      <td>0.002645</td>\n",
              "      <td>0.002476</td>\n",
              "      <td>0.024369</td>\n",
              "    </tr>\n",
              "    <tr>\n",
              "      <th>1990-01-03</th>\n",
              "      <td>0.002770</td>\n",
              "      <td>0.002700</td>\n",
              "      <td>0.002754</td>\n",
              "      <td>0.027712</td>\n",
              "    </tr>\n",
              "    <tr>\n",
              "      <th>1990-01-04</th>\n",
              "      <td>0.002797</td>\n",
              "      <td>0.002782</td>\n",
              "      <td>0.002726</td>\n",
              "      <td>0.029534</td>\n",
              "    </tr>\n",
              "    <tr>\n",
              "      <th>1990-01-05</th>\n",
              "      <td>0.002742</td>\n",
              "      <td>0.002727</td>\n",
              "      <td>0.002699</td>\n",
              "      <td>0.016298</td>\n",
              "    </tr>\n",
              "    <tr>\n",
              "      <th>1990-01-08</th>\n",
              "      <td>0.002714</td>\n",
              "      <td>0.002700</td>\n",
              "      <td>0.002699</td>\n",
              "      <td>0.013367</td>\n",
              "    </tr>\n",
              "  </tbody>\n",
              "</table>\n",
              "</div>"
            ],
            "text/plain": [
              "                Open      High       Low    Volume\n",
              "Date                                              \n",
              "1990-01-02  0.002466  0.002645  0.002476  0.024369\n",
              "1990-01-03  0.002770  0.002700  0.002754  0.027712\n",
              "1990-01-04  0.002797  0.002782  0.002726  0.029534\n",
              "1990-01-05  0.002742  0.002727  0.002699  0.016298\n",
              "1990-01-08  0.002714  0.002700  0.002699  0.013367"
            ]
          },
          "metadata": {
            "tags": []
          },
          "execution_count": 119
        }
      ]
    },
    {
      "cell_type": "code",
      "metadata": {
        "id": "-b7o962lH_Uu",
        "colab_type": "code",
        "outputId": "e58adf24-e72e-46f0-e0a1-4a09afa9f803",
        "colab": {
          "base_uri": "https://localhost:8080/",
          "height": 1000
        }
      },
      "source": [
        "display(feature_minmax_transform.head())\n",
        "print('Shape of features : ', feature_minmax_transform.shape)\n",
        "print('Shape of target : ', target_adj_close.shape)\n",
        "\n",
        "# Shift target array because we want to predict the n + 1 day value\n",
        "\n",
        "\n",
        "target_adj_close = target_adj_close.shift(-1)\n",
        "validation_y = target_adj_close[-90:-1]\n",
        "target_adj_close = target_adj_close[:-90]\n",
        "\n",
        "# Taking last 90 rows of data to be validation set\n",
        "validation_X = feature_minmax_transform[-90:-1]\n",
        "feature_minmax_transform = feature_minmax_transform[:-90]\n",
        "display(validation_X.tail())\n",
        "display(validation_y.tail())\n",
        "\n",
        "print(\"\\n -----After process------ \\n\")\n",
        "print('Shape of features : ', feature_minmax_transform.shape)\n",
        "print('Shape of target : ', target_adj_close.shape)\n",
        "display(target_adj_close.tail())"
      ],
      "execution_count": 0,
      "outputs": [
        {
          "output_type": "display_data",
          "data": {
            "text/html": [
              "<div>\n",
              "<style scoped>\n",
              "    .dataframe tbody tr th:only-of-type {\n",
              "        vertical-align: middle;\n",
              "    }\n",
              "\n",
              "    .dataframe tbody tr th {\n",
              "        vertical-align: top;\n",
              "    }\n",
              "\n",
              "    .dataframe thead th {\n",
              "        text-align: right;\n",
              "    }\n",
              "</style>\n",
              "<table border=\"1\" class=\"dataframe\">\n",
              "  <thead>\n",
              "    <tr style=\"text-align: right;\">\n",
              "      <th></th>\n",
              "      <th>Open</th>\n",
              "      <th>High</th>\n",
              "      <th>Low</th>\n",
              "      <th>Volume</th>\n",
              "    </tr>\n",
              "    <tr>\n",
              "      <th>Date</th>\n",
              "      <th></th>\n",
              "      <th></th>\n",
              "      <th></th>\n",
              "      <th></th>\n",
              "    </tr>\n",
              "  </thead>\n",
              "  <tbody>\n",
              "    <tr>\n",
              "      <th>1990-01-02</th>\n",
              "      <td>0.002466</td>\n",
              "      <td>0.002645</td>\n",
              "      <td>0.002476</td>\n",
              "      <td>0.024369</td>\n",
              "    </tr>\n",
              "    <tr>\n",
              "      <th>1990-01-03</th>\n",
              "      <td>0.002770</td>\n",
              "      <td>0.002700</td>\n",
              "      <td>0.002754</td>\n",
              "      <td>0.027712</td>\n",
              "    </tr>\n",
              "    <tr>\n",
              "      <th>1990-01-04</th>\n",
              "      <td>0.002797</td>\n",
              "      <td>0.002782</td>\n",
              "      <td>0.002726</td>\n",
              "      <td>0.029534</td>\n",
              "    </tr>\n",
              "    <tr>\n",
              "      <th>1990-01-05</th>\n",
              "      <td>0.002742</td>\n",
              "      <td>0.002727</td>\n",
              "      <td>0.002699</td>\n",
              "      <td>0.016298</td>\n",
              "    </tr>\n",
              "    <tr>\n",
              "      <th>1990-01-08</th>\n",
              "      <td>0.002714</td>\n",
              "      <td>0.002700</td>\n",
              "      <td>0.002699</td>\n",
              "      <td>0.013367</td>\n",
              "    </tr>\n",
              "  </tbody>\n",
              "</table>\n",
              "</div>"
            ],
            "text/plain": [
              "                Open      High       Low    Volume\n",
              "Date                                              \n",
              "1990-01-02  0.002466  0.002645  0.002476  0.024369\n",
              "1990-01-03  0.002770  0.002700  0.002754  0.027712\n",
              "1990-01-04  0.002797  0.002782  0.002726  0.029534\n",
              "1990-01-05  0.002742  0.002727  0.002699  0.016298\n",
              "1990-01-08  0.002714  0.002700  0.002699  0.013367"
            ]
          },
          "metadata": {
            "tags": []
          }
        },
        {
          "output_type": "stream",
          "text": [
            "Shape of features :  (7579, 4)\n",
            "Shape of target :  (7579, 1)\n"
          ],
          "name": "stdout"
        },
        {
          "output_type": "display_data",
          "data": {
            "text/html": [
              "<div>\n",
              "<style scoped>\n",
              "    .dataframe tbody tr th:only-of-type {\n",
              "        vertical-align: middle;\n",
              "    }\n",
              "\n",
              "    .dataframe tbody tr th {\n",
              "        vertical-align: top;\n",
              "    }\n",
              "\n",
              "    .dataframe thead th {\n",
              "        text-align: right;\n",
              "    }\n",
              "</style>\n",
              "<table border=\"1\" class=\"dataframe\">\n",
              "  <thead>\n",
              "    <tr style=\"text-align: right;\">\n",
              "      <th></th>\n",
              "      <th>Open</th>\n",
              "      <th>High</th>\n",
              "      <th>Low</th>\n",
              "      <th>Volume</th>\n",
              "    </tr>\n",
              "    <tr>\n",
              "      <th>Date</th>\n",
              "      <th></th>\n",
              "      <th></th>\n",
              "      <th></th>\n",
              "      <th></th>\n",
              "    </tr>\n",
              "  </thead>\n",
              "  <tbody>\n",
              "    <tr>\n",
              "      <th>2020-01-23</th>\n",
              "      <td>0.979845</td>\n",
              "      <td>0.974677</td>\n",
              "      <td>0.982145</td>\n",
              "      <td>0.013758</td>\n",
              "    </tr>\n",
              "    <tr>\n",
              "      <th>2020-01-24</th>\n",
              "      <td>0.987037</td>\n",
              "      <td>0.986193</td>\n",
              "      <td>0.987972</td>\n",
              "      <td>0.019428</td>\n",
              "    </tr>\n",
              "    <tr>\n",
              "      <th>2020-01-27</th>\n",
              "      <td>0.955585</td>\n",
              "      <td>0.950882</td>\n",
              "      <td>0.948586</td>\n",
              "      <td>0.021504</td>\n",
              "    </tr>\n",
              "    <tr>\n",
              "      <th>2020-01-28</th>\n",
              "      <td>0.963425</td>\n",
              "      <td>0.971134</td>\n",
              "      <td>0.971364</td>\n",
              "      <td>0.021544</td>\n",
              "    </tr>\n",
              "    <tr>\n",
              "      <th>2020-01-29</th>\n",
              "      <td>1.000000</td>\n",
              "      <td>1.000000</td>\n",
              "      <td>1.000000</td>\n",
              "      <td>0.028821</td>\n",
              "    </tr>\n",
              "  </tbody>\n",
              "</table>\n",
              "</div>"
            ],
            "text/plain": [
              "                Open      High       Low    Volume\n",
              "Date                                              \n",
              "2020-01-23  0.979845  0.974677  0.982145  0.013758\n",
              "2020-01-24  0.987037  0.986193  0.987972  0.019428\n",
              "2020-01-27  0.955585  0.950882  0.948586  0.021504\n",
              "2020-01-28  0.963425  0.971134  0.971364  0.021544\n",
              "2020-01-29  1.000000  1.000000  1.000000  0.028821"
            ]
          },
          "metadata": {
            "tags": []
          }
        },
        {
          "output_type": "display_data",
          "data": {
            "text/html": [
              "<div>\n",
              "<style scoped>\n",
              "    .dataframe tbody tr th:only-of-type {\n",
              "        vertical-align: middle;\n",
              "    }\n",
              "\n",
              "    .dataframe tbody tr th {\n",
              "        vertical-align: top;\n",
              "    }\n",
              "\n",
              "    .dataframe thead th {\n",
              "        text-align: right;\n",
              "    }\n",
              "</style>\n",
              "<table border=\"1\" class=\"dataframe\">\n",
              "  <thead>\n",
              "    <tr style=\"text-align: right;\">\n",
              "      <th></th>\n",
              "      <th>Adj Close</th>\n",
              "    </tr>\n",
              "    <tr>\n",
              "      <th>Date</th>\n",
              "      <th></th>\n",
              "    </tr>\n",
              "  </thead>\n",
              "  <tbody>\n",
              "    <tr>\n",
              "      <th>2020-01-23</th>\n",
              "      <td>318.309998</td>\n",
              "    </tr>\n",
              "    <tr>\n",
              "      <th>2020-01-24</th>\n",
              "      <td>308.950012</td>\n",
              "    </tr>\n",
              "    <tr>\n",
              "      <th>2020-01-27</th>\n",
              "      <td>317.690002</td>\n",
              "    </tr>\n",
              "    <tr>\n",
              "      <th>2020-01-28</th>\n",
              "      <td>324.339996</td>\n",
              "    </tr>\n",
              "    <tr>\n",
              "      <th>2020-01-29</th>\n",
              "      <td>323.869995</td>\n",
              "    </tr>\n",
              "  </tbody>\n",
              "</table>\n",
              "</div>"
            ],
            "text/plain": [
              "             Adj Close\n",
              "Date                  \n",
              "2020-01-23  318.309998\n",
              "2020-01-24  308.950012\n",
              "2020-01-27  317.690002\n",
              "2020-01-28  324.339996\n",
              "2020-01-29  323.869995"
            ]
          },
          "metadata": {
            "tags": []
          }
        },
        {
          "output_type": "stream",
          "text": [
            "\n",
            " -----After process------ \n",
            "\n",
            "Shape of features :  (7489, 4)\n",
            "Shape of target :  (7489, 1)\n"
          ],
          "name": "stdout"
        },
        {
          "output_type": "display_data",
          "data": {
            "text/html": [
              "<div>\n",
              "<style scoped>\n",
              "    .dataframe tbody tr th:only-of-type {\n",
              "        vertical-align: middle;\n",
              "    }\n",
              "\n",
              "    .dataframe tbody tr th {\n",
              "        vertical-align: top;\n",
              "    }\n",
              "\n",
              "    .dataframe thead th {\n",
              "        text-align: right;\n",
              "    }\n",
              "</style>\n",
              "<table border=\"1\" class=\"dataframe\">\n",
              "  <thead>\n",
              "    <tr style=\"text-align: right;\">\n",
              "      <th></th>\n",
              "      <th>Adj Close</th>\n",
              "    </tr>\n",
              "    <tr>\n",
              "      <th>Date</th>\n",
              "      <th></th>\n",
              "    </tr>\n",
              "  </thead>\n",
              "  <tbody>\n",
              "    <tr>\n",
              "      <th>2019-09-16</th>\n",
              "      <td>220.039383</td>\n",
              "    </tr>\n",
              "    <tr>\n",
              "      <th>2019-09-17</th>\n",
              "      <td>222.103195</td>\n",
              "    </tr>\n",
              "    <tr>\n",
              "      <th>2019-09-18</th>\n",
              "      <td>220.298615</td>\n",
              "    </tr>\n",
              "    <tr>\n",
              "      <th>2019-09-19</th>\n",
              "      <td>217.078262</td>\n",
              "    </tr>\n",
              "    <tr>\n",
              "      <th>2019-09-20</th>\n",
              "      <td>218.065308</td>\n",
              "    </tr>\n",
              "  </tbody>\n",
              "</table>\n",
              "</div>"
            ],
            "text/plain": [
              "             Adj Close\n",
              "Date                  \n",
              "2019-09-16  220.039383\n",
              "2019-09-17  222.103195\n",
              "2019-09-18  220.298615\n",
              "2019-09-19  217.078262\n",
              "2019-09-20  218.065308"
            ]
          },
          "metadata": {
            "tags": []
          }
        }
      ]
    },
    {
      "cell_type": "code",
      "metadata": {
        "id": "0tZWVDgfIKBA",
        "colab_type": "code",
        "colab": {}
      },
      "source": [
        "s_split= TimeSeriesSplit(n_splits=10)\n",
        "for train_index, test_index in ts_split.split(feature_minmax_transform):\n",
        "        X_train, X_test = feature_minmax_transform[:len(train_index)], feature_minmax_transform[len(train_index): (len(train_index)+len(test_index))]\n",
        "        y_train, y_test = target_adj_close[:len(train_index)].values.ravel(), target_adj_close[len(train_index): (len(train_index)+len(test_index))].values.ravel()"
      ],
      "execution_count": 0,
      "outputs": []
    },
    {
      "cell_type": "code",
      "metadata": {
        "id": "WUj013zuILI7",
        "colab_type": "code",
        "outputId": "07a55b2e-8453-4b8b-eaf5-83df89f0f1eb",
        "colab": {
          "base_uri": "https://localhost:8080/",
          "height": 34
        }
      },
      "source": [
        "X_train.shape\n"
      ],
      "execution_count": 0,
      "outputs": [
        {
          "output_type": "execute_result",
          "data": {
            "text/plain": [
              "(6809, 4)"
            ]
          },
          "metadata": {
            "tags": []
          },
          "execution_count": 122
        }
      ]
    },
    {
      "cell_type": "code",
      "metadata": {
        "id": "jUCN00aNIODg",
        "colab_type": "code",
        "outputId": "1a815139-7ced-4727-dd50-14064d50011f",
        "colab": {
          "base_uri": "https://localhost:8080/",
          "height": 34
        }
      },
      "source": [
        "X_test.shape\n"
      ],
      "execution_count": 0,
      "outputs": [
        {
          "output_type": "execute_result",
          "data": {
            "text/plain": [
              "(680, 4)"
            ]
          },
          "metadata": {
            "tags": []
          },
          "execution_count": 123
        }
      ]
    },
    {
      "cell_type": "code",
      "metadata": {
        "id": "sgSP_bLAIs7t",
        "colab_type": "code",
        "outputId": "3f78ba0f-5b4e-422c-9edd-110433eda98b",
        "colab": {
          "base_uri": "https://localhost:8080/",
          "height": 34
        }
      },
      "source": [
        "y_train.shape\n",
        "\n"
      ],
      "execution_count": 0,
      "outputs": [
        {
          "output_type": "execute_result",
          "data": {
            "text/plain": [
              "(6809,)"
            ]
          },
          "metadata": {
            "tags": []
          },
          "execution_count": 124
        }
      ]
    },
    {
      "cell_type": "code",
      "metadata": {
        "id": "EjsLGkFoIv7m",
        "colab_type": "code",
        "outputId": "6b6d97fa-2ae0-4515-cde1-59652de3c76e",
        "colab": {
          "base_uri": "https://localhost:8080/",
          "height": 34
        }
      },
      "source": [
        "y_test.shape\n"
      ],
      "execution_count": 0,
      "outputs": [
        {
          "output_type": "execute_result",
          "data": {
            "text/plain": [
              "(680,)"
            ]
          },
          "metadata": {
            "tags": []
          },
          "execution_count": 125
        }
      ]
    },
    {
      "cell_type": "code",
      "metadata": {
        "id": "2pQy4fvVI2Zc",
        "colab_type": "code",
        "colab": {}
      },
      "source": [
        "def validate_result(model, model_name):\n",
        "    predicted = model.predict(validation_X)\n",
        "    RSME_score = np.sqrt(mean_squared_error(validation_y, predicted))\n",
        "    print('RMSE: ', RSME_score)\n",
        "    \n",
        "    R2_score = r2_score(validation_y, predicted)\n",
        "    print('R2 score: ', R2_score)\n",
        "\n",
        "    plt.plot(validation_y.index, predicted,'r', label='Predict')\n",
        "    plt.plot(validation_y.index, validation_y,'b', label='Actual')\n",
        "    plt.ylabel('Price')\n",
        "    plt.gca().xaxis.set_major_formatter(mdates.DateFormatter('%Y-%m-%d'))\n",
        "    plt.gca().xaxis.set_major_locator(mdates.MonthLocator())\n",
        "    plt.title(model_name + ' Predict vs Actual')\n",
        "    plt.legend(loc='upper right')\n",
        "    plt.show()"
      ],
      "execution_count": 0,
      "outputs": []
    },
    {
      "cell_type": "code",
      "metadata": {
        "id": "DT7t_qPjSO1d",
        "colab_type": "code",
        "outputId": "58ab8ee6-c430-43f8-810a-61b098034811",
        "colab": {
          "base_uri": "https://localhost:8080/",
          "height": 315
        }
      },
      "source": [
        "from sklearn.tree import DecisionTreeRegressor\n",
        "\n",
        "dt = DecisionTreeRegressor(random_state=0)\n",
        "\n",
        "benchmark_dt=dt.fit(X_train, y_train)\n",
        "\n",
        "validate_result(benchmark_dt, 'Decision Tree Regression')"
      ],
      "execution_count": 0,
      "outputs": [
        {
          "output_type": "stream",
          "text": [
            "RMSE:  151.6219904371805\n",
            "R2 score:  -23.427275928632863\n"
          ],
          "name": "stdout"
        },
        {
          "output_type": "display_data",
          "data": {
            "image/png": "[encoded data removed]",
            "text/plain": [
              "<Figure size 432x288 with 1 Axes>"
            ]
          },
          "metadata": {
            "tags": []
          }
        }
      ]
    },
    {
      "cell_type": "code",
      "metadata": {
        "id": "In6dAW1nSZG-",
        "colab_type": "code",
        "colab": {}
      },
      "source": [
        "X_train =np.array(X_train)\n",
        "X_test =np.array(X_test)\n",
        "\n",
        "X_tr_t = X_train.reshape(X_train.shape[0], 1, X_train.shape[1])\n",
        "X_tst_t = X_test.reshape(X_test.shape[0], 1, X_test.shape[1])"
      ],
      "execution_count": 0,
      "outputs": []
    },
    {
      "cell_type": "code",
      "metadata": {
        "id": "rW-mlrXkSdca",
        "colab_type": "code",
        "outputId": "984e8da9-2e95-4c4f-9d73-bd3ea06380aa",
        "colab": {
          "base_uri": "https://localhost:8080/",
          "height": 1000
        }
      },
      "source": [
        "from keras.models import Sequential\n",
        "from keras.layers import Dense\n",
        "import keras.backend as K\n",
        "from keras.callbacks import EarlyStopping\n",
        "from keras.optimizers import Adam\n",
        "from keras.models import load_model\n",
        "from keras.layers import LSTM\n",
        "K.clear_session()\n",
        "model_lstm = Sequential()\n",
        "model_lstm.add(LSTM(16, input_shape=(1, X_train.shape[1]), activation='relu', return_sequences=False))\n",
        "model_lstm.add(Dense(1))\n",
        "model_lstm.compile(loss='mean_squared_error', optimizer='adam')\n",
        "early_stop = EarlyStopping(monitor='loss', patience=5, verbose=1)\n",
        "history_model_lstm = model_lstm.fit(X_tr_t, y_train, epochs=200, batch_size=8, verbose=1, shuffle=False, callbacks=[early_stop])"
      ],
      "execution_count": 136,
      "outputs": [
        {
          "output_type": "stream",
          "text": [
            "Epoch 1/200\n",
            "6809/6809 [==============================] - 3s 413us/step - loss: 1142.3265\n",
            "Epoch 2/200\n",
            "6809/6809 [==============================] - 2s 319us/step - loss: 919.0649\n",
            "Epoch 3/200\n",
            "6809/6809 [==============================] - 2s 301us/step - loss: 749.5358\n",
            "Epoch 4/200\n",
            "6809/6809 [==============================] - 2s 303us/step - loss: 592.1697\n",
            "Epoch 5/200\n",
            "6809/6809 [==============================] - 2s 309us/step - loss: 435.7778\n",
            "Epoch 6/200\n",
            "6809/6809 [==============================] - 2s 316us/step - loss: 289.6887\n",
            "Epoch 7/200\n",
            "6809/6809 [==============================] - 2s 290us/step - loss: 177.1607\n",
            "Epoch 8/200\n",
            "6809/6809 [==============================] - 2s 303us/step - loss: 102.0443\n",
            "Epoch 9/200\n",
            "6809/6809 [==============================] - 2s 301us/step - loss: 56.5016\n",
            "Epoch 10/200\n",
            "6809/6809 [==============================] - 2s 292us/step - loss: 30.6693\n",
            "Epoch 11/200\n",
            "6809/6809 [==============================] - 2s 307us/step - loss: 16.7877\n",
            "Epoch 12/200\n",
            "6809/6809 [==============================] - 2s 317us/step - loss: 9.8615\n",
            "Epoch 13/200\n",
            "6809/6809 [==============================] - 2s 305us/step - loss: 6.2621\n",
            "Epoch 14/200\n",
            "6809/6809 [==============================] - 2s 295us/step - loss: 4.0086\n",
            "Epoch 15/200\n",
            "6809/6809 [==============================] - 2s 300us/step - loss: 2.8567\n",
            "Epoch 16/200\n",
            "6809/6809 [==============================] - 2s 295us/step - loss: 2.2873\n",
            "Epoch 17/200\n",
            "6809/6809 [==============================] - 2s 296us/step - loss: 2.0026\n",
            "Epoch 18/200\n",
            "6809/6809 [==============================] - 2s 335us/step - loss: 1.7889\n",
            "Epoch 19/200\n",
            "6809/6809 [==============================] - 2s 307us/step - loss: 1.6443\n",
            "Epoch 20/200\n",
            "6809/6809 [==============================] - 2s 285us/step - loss: 1.5436\n",
            "Epoch 21/200\n",
            "6809/6809 [==============================] - 2s 292us/step - loss: 1.4774\n",
            "Epoch 22/200\n",
            "6809/6809 [==============================] - 2s 313us/step - loss: 1.4263\n",
            "Epoch 23/200\n",
            "6809/6809 [==============================] - 2s 316us/step - loss: 1.3866\n",
            "Epoch 24/200\n",
            "6809/6809 [==============================] - 2s 308us/step - loss: 1.3512\n",
            "Epoch 25/200\n",
            "6809/6809 [==============================] - 2s 290us/step - loss: 1.3188\n",
            "Epoch 26/200\n",
            "6809/6809 [==============================] - 2s 296us/step - loss: 1.2895\n",
            "Epoch 27/200\n",
            "6809/6809 [==============================] - 2s 297us/step - loss: 1.2629\n",
            "Epoch 28/200\n",
            "6809/6809 [==============================] - 2s 297us/step - loss: 1.2369\n",
            "Epoch 29/200\n",
            "6809/6809 [==============================] - 2s 316us/step - loss: 1.2144\n",
            "Epoch 30/200\n",
            "6809/6809 [==============================] - 2s 320us/step - loss: 1.1909\n",
            "Epoch 31/200\n",
            "6809/6809 [==============================] - 2s 311us/step - loss: 1.1696\n",
            "Epoch 32/200\n",
            "6809/6809 [==============================] - 2s 290us/step - loss: 1.1478\n",
            "Epoch 33/200\n",
            "6809/6809 [==============================] - 2s 295us/step - loss: 1.1269\n",
            "Epoch 34/200\n",
            "6809/6809 [==============================] - 2s 294us/step - loss: 1.1064\n",
            "Epoch 35/200\n",
            "6809/6809 [==============================] - 2s 292us/step - loss: 1.0858\n",
            "Epoch 36/200\n",
            "6809/6809 [==============================] - 2s 283us/step - loss: 1.0673\n",
            "Epoch 37/200\n",
            "6809/6809 [==============================] - 2s 291us/step - loss: 1.0483\n",
            "Epoch 38/200\n",
            "6809/6809 [==============================] - 2s 295us/step - loss: 1.0313\n",
            "Epoch 39/200\n",
            "6809/6809 [==============================] - 2s 293us/step - loss: 1.0167\n",
            "Epoch 40/200\n",
            "6809/6809 [==============================] - 2s 287us/step - loss: 1.0004\n",
            "Epoch 41/200\n",
            "6809/6809 [==============================] - 2s 284us/step - loss: 0.9864\n",
            "Epoch 42/200\n",
            "6809/6809 [==============================] - 2s 284us/step - loss: 0.9715\n",
            "Epoch 43/200\n",
            "6809/6809 [==============================] - 2s 281us/step - loss: 0.9574\n",
            "Epoch 44/200\n",
            "6809/6809 [==============================] - 2s 292us/step - loss: 0.9455\n",
            "Epoch 45/200\n",
            "6809/6809 [==============================] - 2s 285us/step - loss: 0.9337\n",
            "Epoch 46/200\n",
            "6809/6809 [==============================] - 2s 289us/step - loss: 0.9226\n",
            "Epoch 47/200\n",
            "6809/6809 [==============================] - 2s 291us/step - loss: 0.9126\n",
            "Epoch 48/200\n",
            "6809/6809 [==============================] - 2s 294us/step - loss: 0.9031\n",
            "Epoch 49/200\n",
            "6809/6809 [==============================] - 2s 297us/step - loss: 0.8938\n",
            "Epoch 50/200\n",
            "6809/6809 [==============================] - 2s 278us/step - loss: 0.8859\n",
            "Epoch 51/200\n",
            "6809/6809 [==============================] - 2s 283us/step - loss: 0.8777\n",
            "Epoch 52/200\n",
            "6809/6809 [==============================] - 2s 288us/step - loss: 0.8705\n",
            "Epoch 53/200\n",
            "6809/6809 [==============================] - 2s 284us/step - loss: 0.8627\n",
            "Epoch 54/200\n",
            "6809/6809 [==============================] - 2s 282us/step - loss: 0.8571\n",
            "Epoch 55/200\n",
            "6809/6809 [==============================] - 2s 287us/step - loss: 0.8514\n",
            "Epoch 56/200\n",
            "6809/6809 [==============================] - 2s 283us/step - loss: 0.8463\n",
            "Epoch 57/200\n",
            "6809/6809 [==============================] - 2s 288us/step - loss: 0.8414\n",
            "Epoch 58/200\n",
            "6809/6809 [==============================] - 2s 286us/step - loss: 0.8369\n",
            "Epoch 59/200\n",
            "6809/6809 [==============================] - 2s 285us/step - loss: 0.8322\n",
            "Epoch 60/200\n",
            "6809/6809 [==============================] - 2s 289us/step - loss: 0.8285\n",
            "Epoch 61/200\n",
            "6809/6809 [==============================] - 2s 296us/step - loss: 0.8247\n",
            "Epoch 62/200\n",
            "6809/6809 [==============================] - 2s 294us/step - loss: 0.8219\n",
            "Epoch 63/200\n",
            "6809/6809 [==============================] - 2s 297us/step - loss: 0.8191\n",
            "Epoch 64/200\n",
            "6809/6809 [==============================] - 2s 299us/step - loss: 0.8165\n",
            "Epoch 65/200\n",
            "6809/6809 [==============================] - 2s 297us/step - loss: 0.8146\n",
            "Epoch 66/200\n",
            "6809/6809 [==============================] - 2s 284us/step - loss: 0.8126\n",
            "Epoch 67/200\n",
            "6809/6809 [==============================] - 2s 281us/step - loss: 0.8103\n",
            "Epoch 68/200\n",
            "6809/6809 [==============================] - 2s 288us/step - loss: 0.8085\n",
            "Epoch 69/200\n",
            "6809/6809 [==============================] - 2s 288us/step - loss: 0.8064\n",
            "Epoch 70/200\n",
            "6809/6809 [==============================] - 2s 281us/step - loss: 0.8050\n",
            "Epoch 71/200\n",
            "6809/6809 [==============================] - 2s 288us/step - loss: 0.8037\n",
            "Epoch 72/200\n",
            "6809/6809 [==============================] - 2s 292us/step - loss: 0.8024\n",
            "Epoch 73/200\n",
            "6809/6809 [==============================] - 2s 283us/step - loss: 0.8010\n",
            "Epoch 74/200\n",
            "6809/6809 [==============================] - 2s 284us/step - loss: 0.8000\n",
            "Epoch 75/200\n",
            "6809/6809 [==============================] - 2s 284us/step - loss: 0.7988\n",
            "Epoch 76/200\n",
            "6809/6809 [==============================] - 2s 284us/step - loss: 0.7977\n",
            "Epoch 77/200\n",
            "6809/6809 [==============================] - 2s 282us/step - loss: 0.7965\n",
            "Epoch 78/200\n",
            "6809/6809 [==============================] - 2s 296us/step - loss: 0.7956\n",
            "Epoch 79/200\n",
            "6809/6809 [==============================] - 2s 297us/step - loss: 0.7951\n",
            "Epoch 80/200\n",
            "6809/6809 [==============================] - 2s 288us/step - loss: 0.7946\n",
            "Epoch 81/200\n",
            "6809/6809 [==============================] - 2s 294us/step - loss: 0.7932\n",
            "Epoch 82/200\n",
            "6809/6809 [==============================] - 2s 297us/step - loss: 0.7934\n",
            "Epoch 83/200\n",
            "6809/6809 [==============================] - 2s 300us/step - loss: 0.7920\n",
            "Epoch 84/200\n",
            "6809/6809 [==============================] - 2s 303us/step - loss: 0.7915\n",
            "Epoch 85/200\n",
            "6809/6809 [==============================] - 2s 300us/step - loss: 0.7901\n",
            "Epoch 86/200\n",
            "6809/6809 [==============================] - 2s 299us/step - loss: 0.7901\n",
            "Epoch 87/200\n",
            "6809/6809 [==============================] - 2s 297us/step - loss: 0.7897\n",
            "Epoch 88/200\n",
            "6809/6809 [==============================] - 2s 299us/step - loss: 0.7899\n",
            "Epoch 89/200\n",
            "6809/6809 [==============================] - 2s 290us/step - loss: 0.7898\n",
            "Epoch 90/200\n",
            "6809/6809 [==============================] - 2s 286us/step - loss: 0.7895\n",
            "Epoch 91/200\n",
            "6809/6809 [==============================] - 2s 297us/step - loss: 0.7894\n",
            "Epoch 92/200\n",
            "6809/6809 [==============================] - 2s 296us/step - loss: 0.7894\n",
            "Epoch 93/200\n",
            "6809/6809 [==============================] - 2s 289us/step - loss: 0.7898\n",
            "Epoch 94/200\n",
            "6809/6809 [==============================] - 2s 303us/step - loss: 0.7897\n",
            "Epoch 95/200\n",
            "6809/6809 [==============================] - 2s 289us/step - loss: 0.7895\n",
            "Epoch 96/200\n",
            "6809/6809 [==============================] - 2s 283us/step - loss: 0.7892\n",
            "Epoch 97/200\n",
            "6809/6809 [==============================] - 2s 287us/step - loss: 0.7891\n",
            "Epoch 98/200\n",
            "6809/6809 [==============================] - 2s 299us/step - loss: 0.7891\n",
            "Epoch 99/200\n",
            "6809/6809 [==============================] - 2s 296us/step - loss: 0.7902\n",
            "Epoch 100/200\n",
            "6809/6809 [==============================] - 2s 284us/step - loss: 0.7896\n",
            "Epoch 101/200\n",
            "6809/6809 [==============================] - 2s 284us/step - loss: 0.7903\n",
            "Epoch 102/200\n",
            "6809/6809 [==============================] - 2s 294us/step - loss: 0.7909\n",
            "Epoch 00102: early stopping\n"
          ],
          "name": "stdout"
        }
      ]
    },
    {
      "cell_type": "code",
      "metadata": {
        "id": "TZ4GfCRxTyk6",
        "colab_type": "code",
        "outputId": "1b444f79-bdca-4160-8f20-6188c888d4c7",
        "colab": {
          "base_uri": "https://localhost:8080/",
          "height": 51
        }
      },
      "source": [
        "y_pred_test_lstm = model_lstm.predict(X_tst_t)\n",
        "y_train_pred_lstm = model_lstm.predict(X_tr_t)\n",
        "print(\"The R2 score on the Train set is:\\t{:0.3f}\".format(r2_score(y_train, y_train_pred_lstm)))\n",
        "r2_train = r2_score(y_train, y_train_pred_lstm)\n",
        "\n",
        "print(\"The R2 score on the Test set is:\\t{:0.3f}\".format(r2_score(y_test, y_pred_test_lstm)))\n",
        "r2_test = r2_score(y_test, y_pred_test_lstm)"
      ],
      "execution_count": 0,
      "outputs": [
        {
          "output_type": "stream",
          "text": [
            "The R2 score on the Train set is:\t0.998\n",
            "The R2 score on the Test set is:\t0.421\n"
          ],
          "name": "stdout"
        }
      ]
    },
    {
      "cell_type": "code",
      "metadata": {
        "id": "MLvqjavkT8uQ",
        "colab_type": "code",
        "outputId": "30aab6d3-01e0-4483-a30f-a7a906dcb506",
        "colab": {
          "base_uri": "https://localhost:8080/",
          "height": 34
        }
      },
      "source": [
        "score_lstm= model_lstm.evaluate(X_tst_t, y_test, batch_size=1)\n"
      ],
      "execution_count": 0,
      "outputs": [
        {
          "output_type": "stream",
          "text": [
            "680/680 [==============================] - 0s 663us/step\n"
          ],
          "name": "stdout"
        }
      ]
    },
    {
      "cell_type": "code",
      "metadata": {
        "id": "sHyNfAGcT-lW",
        "colab_type": "code",
        "outputId": "386ca449-0dce-40b1-cf63-973e9cedf41d",
        "colab": {
          "base_uri": "https://localhost:8080/",
          "height": 34
        }
      },
      "source": [
        "print('LSTM: %f'%score_lstm)\n"
      ],
      "execution_count": 0,
      "outputs": [
        {
          "output_type": "stream",
          "text": [
            "LSTM: 415.132864\n"
          ],
          "name": "stdout"
        }
      ]
    },
    {
      "cell_type": "code",
      "metadata": {
        "id": "TAYoIef3UJIy",
        "colab_type": "code",
        "colab": {}
      },
      "source": [
        "y_pred_test_LSTM = model_lstm.predict(X_tst_t)\n"
      ],
      "execution_count": 0,
      "outputs": []
    },
    {
      "cell_type": "code",
      "metadata": {
        "id": "qAQlWhcfUK5R",
        "colab_type": "code",
        "outputId": "550df6f4-bcbc-4c28-e44a-d609aaf569f4",
        "colab": {
          "base_uri": "https://localhost:8080/",
          "height": 295
        }
      },
      "source": [
        "plt.plot(y_test, label='True')\n",
        "plt.plot(y_pred_test_LSTM, label='LSTM')\n",
        "plt.title(\"LSTM's_Prediction\")\n",
        "plt.xlabel('Observation')\n",
        "plt.ylabel('INR_Scaled')\n",
        "plt.legend()\n",
        "plt.show()\n"
      ],
      "execution_count": 0,
      "outputs": [
        {
          "output_type": "display_data",
          "data": {
            "image/png": "[encoded data removed]",
            "text/plain": [
              "<Figure size 432x288 with 1 Axes>"
            ]
          },
          "metadata": {
            "tags": []
          }
        }
      ]
    }
  ]
}