{
 "cells": [
  {
   "cell_type": "code",
   "execution_count": 3,
   "metadata": {},
   "outputs": [
    {
     "name": "stdout",
     "output_type": "stream",
     "text": [
      "(14, 6)\n"
     ]
    },
    {
     "data": {
      "text/html": [
       "<div>\n",
       "<style scoped>\n",
       "    .dataframe tbody tr th:only-of-type {\n",
       "        vertical-align: middle;\n",
       "    }\n",
       "\n",
       "    .dataframe tbody tr th {\n",
       "        vertical-align: top;\n",
       "    }\n",
       "\n",
       "    .dataframe thead th {\n",
       "        text-align: right;\n",
       "    }\n",
       "</style>\n",
       "<table border=\"1\" class=\"dataframe\">\n",
       "  <thead>\n",
       "    <tr style=\"text-align: right;\">\n",
       "      <th></th>\n",
       "      <th>RID</th>\n",
       "      <th>Age</th>\n",
       "      <th>Income</th>\n",
       "      <th>Student</th>\n",
       "      <th>Credit-Rating</th>\n",
       "      <th>Class-BuysComputer</th>\n",
       "    </tr>\n",
       "  </thead>\n",
       "  <tbody>\n",
       "    <tr>\n",
       "      <th>0</th>\n",
       "      <td>1</td>\n",
       "      <td>youth</td>\n",
       "      <td>high</td>\n",
       "      <td>no</td>\n",
       "      <td>fair</td>\n",
       "      <td>no</td>\n",
       "    </tr>\n",
       "    <tr>\n",
       "      <th>1</th>\n",
       "      <td>2</td>\n",
       "      <td>youth</td>\n",
       "      <td>high</td>\n",
       "      <td>no</td>\n",
       "      <td>excellent</td>\n",
       "      <td>no</td>\n",
       "    </tr>\n",
       "    <tr>\n",
       "      <th>2</th>\n",
       "      <td>3</td>\n",
       "      <td>middle-age</td>\n",
       "      <td>high</td>\n",
       "      <td>no</td>\n",
       "      <td>fair</td>\n",
       "      <td>yes</td>\n",
       "    </tr>\n",
       "    <tr>\n",
       "      <th>3</th>\n",
       "      <td>4</td>\n",
       "      <td>senior</td>\n",
       "      <td>medium</td>\n",
       "      <td>no</td>\n",
       "      <td>fair</td>\n",
       "      <td>yes</td>\n",
       "    </tr>\n",
       "    <tr>\n",
       "      <th>4</th>\n",
       "      <td>5</td>\n",
       "      <td>senior</td>\n",
       "      <td>medium</td>\n",
       "      <td>no</td>\n",
       "      <td>fair</td>\n",
       "      <td>yes</td>\n",
       "    </tr>\n",
       "  </tbody>\n",
       "</table>\n",
       "</div>"
      ],
      "text/plain": [
       "   RID         Age  Income Student Credit-Rating Class-BuysComputer\n",
       "0    1       youth    high      no          fair                 no\n",
       "1    2       youth    high      no     excellent                 no\n",
       "2    3  middle-age    high      no          fair                yes\n",
       "3    4      senior  medium      no          fair                yes\n",
       "4    5      senior  medium      no          fair                yes"
      ]
     },
     "execution_count": 3,
     "metadata": {},
     "output_type": "execute_result"
    }
   ],
   "source": [
    "import numpy as np\n",
    "import pandas as pd\n",
    "\n",
    "#reading data in csv format\n",
    "data=pd.read_csv('C:/Users/DELL/Desktop/age.csv')\n",
    "print(data.shape)\n",
    "data.head()"
   ]
  },
  {
   "cell_type": "code",
   "execution_count": 5,
   "metadata": {},
   "outputs": [],
   "source": [
    "AGE=data['Age'].values\n",
    "INCOME=data['Income'].values\n",
    "STUDENT=data['Student'].values\n",
    "CREDIT_RATING=data['Credit-Rating'].values\n",
    "BUYSCOMP=data['Class-BuysComputer'].values"
   ]
  },
  {
   "cell_type": "code",
   "execution_count": 6,
   "metadata": {},
   "outputs": [
    {
     "name": "stdout",
     "output_type": "stream",
     "text": [
      "youth high no\n"
     ]
    }
   ],
   "source": [
    "print(AGE[0],INCOME[0],STUDENT[0])"
   ]
  },
  {
   "cell_type": "code",
   "execution_count": 13,
   "metadata": {},
   "outputs": [],
   "source": [
    "#enter details to check\n",
    "AGECHECK=\"middle_age\"\n",
    "INCOMECHECK=\"high\"\n",
    "STUDENTCHECK=\"no\"\n",
    "CREDITCHECK=\"fair\"\n",
    "total_yes=0\n",
    "total_no=0\n",
    "\n",
    "m=len(AGE)\n",
    "\n",
    "for i in range(m-1):\n",
    "    if(BUYSCOMP[i]==\"yes\"):\n",
    "        total_yes=total_yes+1\n",
    "    else:\n",
    "        total_no=total_no+1\n",
    "    \n",
    "p_total_yes=total_yes/(m-1)\n",
    "p_total_no=total_no/(m-1)\n",
    "\n",
    "\n",
    "\n",
    "\n",
    "\n",
    "\n",
    "\n",
    "\n",
    "\n",
    "\n"
   ]
  },
  {
   "cell_type": "code",
   "execution_count": 15,
   "metadata": {},
   "outputs": [],
   "source": [
    "AGE_PROB_Y=0\n",
    "AGE_PROB_N=0\n",
    "\n",
    "INCOME_PROB_Y=0\n",
    "INCOME_PROB_N=0\n",
    "\n",
    "STUDENT_PROB_Y=0\n",
    "STUDENT_PROB_N=0\n",
    "\n",
    "CREDITRANKING_PROB_Y=0\n",
    "CREDITRANKING_PROB_N=0\n",
    "\n",
    "for i in range(m-1):\n",
    "    if(AGE[i]==AGECHECK and BUYSCOMP[i]==\"yes\"):\n",
    "        AGE_PROB_Y= AGE_PROB_Y+1\n",
    "     \n",
    "    elif(AGE[i]==AGECHECK and BUYSCOMP[i]==\"yes\"):\n",
    "        AGE_PROB_N= AGE_PROB_N+1\n",
    "        \n",
    "\n",
    "for i in range(m-1):\n",
    "    if(INCOME[i]==INCOMECHECK and BUYSCOMP[i]==\"yes\"):\n",
    "       INCOME_PROB_Y= INCOME_PROB_Y+1\n",
    "     \n",
    "    elif(INCOME[i]==INCOMECHECK and BUYSCOMP[i]==\"no\"):\n",
    "        INCOME_PROB_N= INCOME_PROB_N+1\n",
    "        "
   ]
  },
  {
   "cell_type": "code",
   "execution_count": 19,
   "metadata": {},
   "outputs": [],
   "source": [
    "for i in range(m-1):\n",
    "    if(STUDENT[i]==STUDENTCHECK and BUYSCOMP[i]==\"yes\"):\n",
    "       STUDENT_PROB_Y= STUDENT_PROB_Y+1\n",
    "     \n",
    "    elif(STUDENT[i]==STUDENTCHECK and BUYSCOMP[i]==\"no\"):\n",
    "        STUDENT_PROB_N= STUDENT_PROB_N+1\n",
    "        \n",
    "for i in range(m-1):\n",
    "    if(CREDIT_RATING[i]==CREDITCHECK and BUYSCOMP[i]==\"yes\"):\n",
    "       CREDITRANKING_PROB_Y= CREDITRANKING_PROB_Y+1\n",
    "     \n",
    "    elif(CREDIT_RATING[i]==CREDITCHECK and BUYSCOMP[i]==\"no\"):\n",
    "        CREDITRANKING_PROB_N= CREDITRANKING_PROB_N+1"
   ]
  },
  {
   "cell_type": "code",
   "execution_count": 20,
   "metadata": {},
   "outputs": [],
   "source": [
    "AGE_PROB_Y=AGE_PROB_Y/total_yes\n",
    "AGE_PROB_N=AGE_PROB_N/total_no"
   ]
  },
  {
   "cell_type": "code",
   "execution_count": null,
   "metadata": {},
   "outputs": [],
   "source": [
    "INCOME_PROB_Y=INCOME_PROB_Y/total_yes\n",
    "INCOME_PROB_N=INCOME_PROB_Y/total_yes"
   ]
  },
  {
   "cell_type": "code",
   "execution_count": null,
   "metadata": {},
   "outputs": [],
   "source": [
    "STUDENT_PROB_Y=STUDENT_PROB_Y/total_yes\n",
    "STUDENT_PROB_N=STUDENT_PROB_N/total_no"
   ]
  },
  {
   "cell_type": "code",
   "execution_count": 21,
   "metadata": {},
   "outputs": [],
   "source": [
    "CREDITRANKING_PROB_Y=CREDITRANKING_PROB_Y/total_yes\n",
    "CREDITRANKING_PROB_N=CREDITRANKING_PROB_N/total_no\n"
   ]
  },
  {
   "cell_type": "code",
   "execution_count": 27,
   "metadata": {},
   "outputs": [],
   "source": [
    "FINAL_YES_PROB=AGE_PROB_Y*INCOME_PROB_Y*STUDENT_PROB_Y*CREDITRANKING_PROB_Y*p_total_yes\n",
    "FINAL_NO_PROB=AGE_PROB_N*INCOME_PROB_N*STUDENT_PROB_N*CREDITRANKING_PROB_N*p_total_no"
   ]
  },
  {
   "cell_type": "code",
   "execution_count": 28,
   "metadata": {},
   "outputs": [
    {
     "name": "stdout",
     "output_type": "stream",
     "text": [
      "NO computer will be bought\n"
     ]
    }
   ],
   "source": [
    "    if(FINAL_YES_PROB>FINAL_NO_PROB):\n",
    "        print(\"YES He will buy a computer\")\n",
    "    else:\n",
    "        print(\"NO computer will be bought\")\n"
   ]
  },
  {
   "cell_type": "code",
   "execution_count": null,
   "metadata": {},
   "outputs": [],
   "source": []
  },
  {
   "cell_type": "code",
   "execution_count": null,
   "metadata": {},
   "outputs": [],
   "source": []
  }
 ],
 "metadata": {
  "kernelspec": {
   "display_name": "Python 3",
   "language": "python",
   "name": "python3"
  },
  "language_info": {
   "codemirror_mode": {
    "name": "ipython",
    "version": 3
   },
   "file_extension": ".py",
   "mimetype": "text/x-python",
   "name": "python",
   "nbconvert_exporter": "python",
   "pygments_lexer": "ipython3",
   "version": "3.7.3"
  }
 },
 "nbformat": 4,
 "nbformat_minor": 2
}
